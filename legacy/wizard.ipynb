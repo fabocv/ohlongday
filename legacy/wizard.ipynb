{
 "cells": [
  {
   "cell_type": "code",
   "execution_count": null,
   "id": "64e5ab54-5d6b-43ec-9a65-9ef188d44b61",
   "metadata": {},
   "outputs": [],
   "source": [
    "import argparse, sys, json\n",
    "from reporte_python.bdp_report_coach import generate_report_coach\n",
    "from reporte_python.helpers import _preprocess_csv_for_coach, _resolve_columns\n",
    "from reporte_python.bdp_schema import DEFAULT_COLUMNS\n",
    "import pandas as pd\n",
    "import numpy as np\n",
    "\n",
    "input_csv =\"data/bdp_sample.csv\"\n",
    "targets = \"animo,claridad,estres,activacion\".split(\",\")\n",
    "output =\"./outputs\"\n",
    "target_email = \"test@gmail.com\"\n",
    "lookback_days = 6\n",
    "row_idx = -1\n",
    "target_day = \"26-08-2025\"\n",
    "start_date = None\n",
    "end_date  = None\n",
    "tag_filter = None\n"
   ]
  },
  {
   "cell_type": "code",
   "execution_count": 2,
   "id": "9bda8010-3565-437a-8ed0-6ce6d59b633c",
   "metadata": {},
   "outputs": [],
   "source": [
    "# Preprocesa: normaliza hora 'a. m./p. m.', garantiza 'fecha'/'hora', filtra por correo\n",
    "pre_csv = _preprocess_csv_for_coach(input_csv, target_email)"
   ]
  },
  {
   "cell_type": "code",
   "execution_count": 3,
   "id": "96c375d6-1adf-4879-a5cf-fe34bbf4592f",
   "metadata": {},
   "outputs": [],
   "source": [
    "df = pd.read_csv(pre_csv, dtype={\"hora\": \"string\"})\n",
    "df.columns = [str(c).strip() for c in df.columns]\n",
    "# mapea a nombres esperados\n",
    "df = _resolve_columns(df, DEFAULT_COLUMNS)\n",
    "if \"fecha\" in df.columns:\n",
    "    df[\"fecha\"] = pd.to_datetime(df[\"fecha\"], errors=\"coerce\", dayfirst=True)\n",
    "\n",
    "if start_date:\n",
    "    sd = pd.to_datetime(start_date, errors=\"coerce\", dayfirst=True)\n",
    "    df = df[df[\"fecha\"] >= sd]\n",
    "if end_date:\n",
    "    ed = pd.to_datetime(end_date, errors=\"coerce\", dayfirst=True)\n",
    "    df = df[df[\"fecha\"] <= ed]\n",
    "\n",
    "if tag_filter and \"tags\" in df.columns:\n",
    "    df = df[df[\"tags\"].astype(str).str.contains(tag_filter, case=False, na=False)]"
   ]
  },
  {
   "cell_type": "code",
   "execution_count": 4,
   "id": "a6b1aa8a-f672-4d18-8a49-cc614242f101",
   "metadata": {
    "scrolled": true
   },
   "outputs": [
    {
     "name": "stdout",
     "output_type": "stream",
     "text": [
      "[AVISO] Muy pocos datos para estres: 21 filas. Se entrenará igual, pero la validación puede ser débil.\n",
      "[AVISO] Muy pocos datos para animo: 21 filas. Se entrenará igual, pero la validación puede ser débil.\n",
      "[AVISO] Muy pocos datos para claridad: 21 filas. Se entrenará igual, pero la validación puede ser débil.\n",
      "[AVISO] Muy pocos datos para activacion: 21 filas. Se entrenará igual, pero la validación puede ser débil.\n",
      "\n",
      "================= MODELOS & POLÍTICA DE PESOS =================\n",
      "[estres] best=RandomForest  MAE_model=0.999  MAE_EMA=1.214  Δ%vsEMA=0.178\n",
      "      Pesos sugeridos → model=0.43, ema14=0.57\n",
      "[animo] best=RandomForest  MAE_model=0.509  MAE_EMA=0.428  Δ%vsEMA=-0.19\n",
      "      Pesos sugeridos → model=0.3, ema14=0.7\n",
      "[claridad] best=ElasticNetCV  MAE_model=0.379  MAE_EMA=0.745  Δ%vsEMA=0.492\n",
      "      Pesos sugeridos → model=0.5, ema14=0.5\n",
      "[activacion] best=RandomForest  MAE_model=0.671  MAE_EMA=0.616  Δ%vsEMA=-0.09\n",
      "      Pesos sugeridos → model=0.3, ema14=0.7\n",
      "===============================================================\n",
      "\n",
      "[OK] Pipeline completo. Archivos en: /home/fabo/BDP/ohlongday/outputs\n"
     ]
    }
   ],
   "source": [
    "from lab.bdp_pipeline import load_csv_or_template, build_and_evaluate\n",
    "import os\n",
    "results = build_and_evaluate(df, export_dir=\"./outputs\")\n",
    "\n",
    "# Guardo el dataframe enriquecido por si se quiere inspeccionar\n",
    "enr_path = os.path.join(\"./outputs\", \"bdp2_out.csv\")\n",
    "results[\"df\"].to_csv(enr_path, index=False, encoding=\"utf-8\")\n",
    "print(f\"[OK] Pipeline completo. Archivos en: {os.path.abspath(\"./outputs\")}\")"
   ]
  },
  {
   "cell_type": "code",
   "execution_count": 7,
   "id": "b13aa7aa-1f38-4d70-817f-85d7bcdd52e6",
   "metadata": {},
   "outputs": [],
   "source": [
    "from bdp_calcs.relations import wellbeing_index"
   ]
  },
  {
   "cell_type": "markdown",
   "id": "23c1b502-9bf8-4664-91b0-d69d2103330b",
   "metadata": {},
   "source": [
    "# Estresores y su impacto diario"
   ]
  },
  {
   "cell_type": "code",
   "execution_count": 8,
   "id": "7f5cfed0-1748-4084-93ab-6e6f45644b55",
   "metadata": {},
   "outputs": [],
   "source": [
    "cols = ['bienestar_diario',\"fecha\",'animo', 'activacion', 'conexion', 'movimiento', 'irritabilidad',\n",
    "        'claridad', 'autocuidado','alimentacion', 'ansiedad','estres', 'sueno_calidad', 'despertares_nocturnos',\n",
    "        'dolor_fisico', 'mov_intensidad', \n",
    "        'meditacion_min', 'agua_litros', 'cafe_cucharaditas', 'alcohol_ud','notas'\n",
    "       ]"
   ]
  },
  {
   "cell_type": "code",
   "execution_count": 9,
   "id": "d9a616fb-0df3-488e-814a-9ad5e6f96bdc",
   "metadata": {},
   "outputs": [],
   "source": [
    "targets = ['animo', 'activacion', \n",
    "        'claridad','estres', 'sueno_calidad']\n",
    "wb = wellbeing_index(df, targets=targets)\n",
    "wb_trend = \"estable\"\n",
    "if len(wb.dropna()) >= 2:\n",
    "    dwb = wb.diff().iloc[-1]\n",
    "    if pd.notna(dwb):\n",
    "        if dwb > 0.4:\n",
    "            wb_trend = \"al alza\"\n",
    "        elif dwb < -0.4:\n",
    "            wb_trend = \"a la baja\"\n",
    "        else:\n",
    "            wb_trend = \"estable\""
   ]
  },
  {
   "cell_type": "code",
   "execution_count": 10,
   "id": "2a1d31a5-8a90-445b-a348-807d2b10659f",
   "metadata": {},
   "outputs": [],
   "source": [
    "df[\"bienestar_diario\"]= wb.astype(np.float64)\n",
    "subset = df[cols]\n",
    "subset = subset.fillna(0)\n",
    "stressout = subset[subset[\"fecha\"] == \"2025-08-24\"]"
   ]
  },
  {
   "cell_type": "code",
   "execution_count": null,
   "id": "09d8ec27-5d81-46b8-b635-0e721cfb6210",
   "metadata": {},
   "outputs": [],
   "source": []
  }
 ],
 "metadata": {
  "kernelspec": {
   "display_name": "Python (jupyter_env)",
   "language": "python",
   "name": "jupyter_env"
  },
  "language_info": {
   "codemirror_mode": {
    "name": "ipython",
    "version": 3
   },
   "file_extension": ".py",
   "mimetype": "text/x-python",
   "name": "python",
   "nbconvert_exporter": "python",
   "pygments_lexer": "ipython3",
   "version": "3.13.5"
  }
 },
 "nbformat": 4,
 "nbformat_minor": 5
}
