{
 "cells": [
  {
   "cell_type": "code",
   "execution_count": 6,
   "id": "ae3b437b-c607-4e3b-a4d7-9dcf89537200",
   "metadata": {},
   "outputs": [],
   "source": [
    "from __future__ import annotations\n",
    "import os, json, re\n",
    "import pandas as pd\n",
    "from typing import List, Dict, Any\n",
    "from datetime import datetime\n",
    "from pathlib import Path\n"
   ]
  },
  {
   "cell_type": "code",
   "execution_count": 13,
   "id": "0587eda3-e400-4cee-bedf-c05c1a80418c",
   "metadata": {},
   "outputs": [],
   "source": [
    "input_csv = \"../data/bdp_data.csv\""
   ]
  },
  {
   "cell_type": "code",
   "execution_count": 16,
   "id": "da1acf52-a14c-48f2-b444-3fd1e2c0ecd6",
   "metadata": {},
   "outputs": [],
   "source": [
    "# Mapeo de nombres lógicos -> columnas reales del CSV\n",
    "DEFAULT_COLUMNS: Dict[str, str] = {\n",
    "    # claves mínimas\n",
    "    \"fecha\": \"fecha\",\n",
    "    \"hora\": \"hora\",\n",
    "    \"notas\": \"notas\",\n",
    "    \"estresores\": \"eventos_estresores\",\n",
    "    \"tags\": \"tags\",\n",
    "\n",
    "    # áreas núcleo\n",
    "    \"animo\": \"animo\",\n",
    "    \"activacion\": \"activacion\",\n",
    "    \"sueno\": \"sueno_calidad\",\n",
    "    \"conexion\": \"conexion\",\n",
    "    \"proposito\": \"proposito\",\n",
    "    \"claridad\": \"claridad\",\n",
    "    \"estres\": \"estres\",\n",
    "\n",
    "    # métricas/variables extra\n",
    "    \"horas_sueno\": \"horas_sueno\",\n",
    "    \"siesta_min\": \"siesta_min\",\n",
    "    \"autocuidado\": \"autocuidado\",\n",
    "    \"alimentacion\": \"alimentacion\",\n",
    "    \"movimiento\": \"movimiento\",\n",
    "    \"dolor_fisico\": \"dolor_fisico\",\n",
    "    \"ansiedad\": \"ansiedad\",\n",
    "    \"irritabilidad\": \"irritabilidad\",\n",
    "    \"meditacion_min\": \"meditacion_min\",\n",
    "    \"exposicion_sol_min\": \"exposicion_sol_min\",\n",
    "    \"agua_litros\": \"agua_litros\",\n",
    "    \"cafe_cucharaditas\": \"cafe_cucharaditas\",\n",
    "    \"alcohol_ud\": \"alcohol_ud\",\n",
    "    \"medicacion_tomada\": \"medicacion_tomada\",\n",
    "    \"medicacion_tipo\": \"medicacion_tipo\",\n",
    "    \"otras_sustancias\": \"otras_sustancias\",\n",
    "    \"interacciones_significativas\": \"interacciones_significativas\",\n",
    "    \"glicemia\": \"glicemia\",\n",
    "}"
   ]
  },
  {
   "cell_type": "code",
   "execution_count": 17,
   "id": "e57a7ca8-c125-4864-8913-ca5ae26970ce",
   "metadata": {},
   "outputs": [],
   "source": [
    "def _resolve_columns(df: pd.DataFrame, expected: Dict[str,str]) -> pd.DataFrame:\n",
    "    \"\"\"\n",
    "    Intenta mapear/renombrar columnas reales a los nombres esperados en DEFAULT_COLUMNS,\n",
    "    usando comparación insensible a mayúsculas/acentos/espacios.\n",
    "    No elimina columnas; sólo renombra si encuentra equivalentes.\n",
    "    \"\"\"\n",
    "    if df is None or df.empty:\n",
    "        return df\n",
    "    # Normaliza encabezados reales\n",
    "    real_cols = list(df.columns)\n",
    "    norm_to_real = {_norm(c): c for c in real_cols}\n",
    "    rename_map = {}\n",
    "    for k, exp in expected.items():\n",
    "        if not isinstance(exp, str): \n",
    "            continue\n",
    "        if exp in df.columns:\n",
    "            continue  # ya está\n",
    "        # buscar por forma normalizada\n",
    "        real = norm_to_real.get(_norm(exp))\n",
    "        if real:\n",
    "            rename_map[real] = exp\n",
    "        else:\n",
    "            # sinónimo básico para fecha\n",
    "            if k == \"fecha\":\n",
    "                for alt in [\"fecha\", \"fechas\", \"dia\", \"día\", \"date\", \"fecha_registro\"]:\n",
    "                    real = norm_to_real.get(_norm(alt))\n",
    "                    if real and real not in rename_map:\n",
    "                        rename_map[real] = exp\n",
    "                        break\n",
    "    if rename_map:\n",
    "        df = df.rename(columns=rename_map)\n",
    "    return df"
   ]
  },
  {
   "cell_type": "code",
   "execution_count": 18,
   "id": "01afc2b5-86d7-40ce-bef7-f58c40cff575",
   "metadata": {},
   "outputs": [
    {
     "ename": "NameError",
     "evalue": "name '_norm' is not defined",
     "output_type": "error",
     "traceback": [
      "\u001b[31m---------------------------------------------------------------------------\u001b[39m",
      "\u001b[31mNameError\u001b[39m                                 Traceback (most recent call last)",
      "\u001b[36mCell\u001b[39m\u001b[36m \u001b[39m\u001b[32mIn[18]\u001b[39m\u001b[32m, line 4\u001b[39m\n\u001b[32m      2\u001b[39m df.columns = [\u001b[38;5;28mstr\u001b[39m(c).strip() \u001b[38;5;28;01mfor\u001b[39;00m c \u001b[38;5;129;01min\u001b[39;00m df.columns]\n\u001b[32m      3\u001b[39m \u001b[38;5;66;03m# mapea a nombres esperados\u001b[39;00m\n\u001b[32m----> \u001b[39m\u001b[32m4\u001b[39m df = _resolve_columns(df, DEFAULT_COLUMNS)\n\u001b[32m      5\u001b[39m \u001b[38;5;28;01mif\u001b[39;00m \u001b[33m\"\u001b[39m\u001b[33mfecha\u001b[39m\u001b[33m\"\u001b[39m \u001b[38;5;129;01min\u001b[39;00m df.columns:\n\u001b[32m      6\u001b[39m     df[\u001b[33m\"\u001b[39m\u001b[33mfecha\u001b[39m\u001b[33m\"\u001b[39m] = pd.to_datetime(df[\u001b[33m\"\u001b[39m\u001b[33mfecha\u001b[39m\u001b[33m\"\u001b[39m], errors=\u001b[33m\"\u001b[39m\u001b[33mcoerce\u001b[39m\u001b[33m\"\u001b[39m, dayfirst=\u001b[38;5;28;01mTrue\u001b[39;00m)\n",
      "\u001b[36mCell\u001b[39m\u001b[36m \u001b[39m\u001b[32mIn[17]\u001b[39m\u001b[32m, line 11\u001b[39m, in \u001b[36m_resolve_columns\u001b[39m\u001b[34m(df, expected)\u001b[39m\n\u001b[32m      9\u001b[39m \u001b[38;5;66;03m# Normaliza encabezados reales\u001b[39;00m\n\u001b[32m     10\u001b[39m real_cols = \u001b[38;5;28mlist\u001b[39m(df.columns)\n\u001b[32m---> \u001b[39m\u001b[32m11\u001b[39m norm_to_real = {_norm(c): c \u001b[38;5;28;01mfor\u001b[39;00m c \u001b[38;5;129;01min\u001b[39;00m real_cols}\n\u001b[32m     12\u001b[39m rename_map = {}\n\u001b[32m     13\u001b[39m \u001b[38;5;28;01mfor\u001b[39;00m k, exp \u001b[38;5;129;01min\u001b[39;00m expected.items():\n",
      "\u001b[31mNameError\u001b[39m: name '_norm' is not defined"
     ]
    }
   ],
   "source": [
    "df = pd.read_csv(input_csv, dtype={\"hora\": \"string\"})\n",
    "df.columns = [str(c).strip() for c in df.columns]\n",
    "# mapea a nombres esperados\n",
    "df = _resolve_columns(df, DEFAULT_COLUMNS)\n",
    "if \"fecha\" in df.columns:\n",
    "    df[\"fecha\"] = pd.to_datetime(df[\"fecha\"], errors=\"coerce\", dayfirst=True)\n",
    "\n",
    "if start_date:\n",
    "    sd = pd.to_datetime(start_date, errors=\"coerce\", dayfirst=True)\n",
    "    df = df[df[\"fecha\"] >= sd]\n",
    "if end_date:\n",
    "    ed = pd.to_datetime(end_date, errors=\"coerce\", dayfirst=True)\n",
    "    df = df[df[\"fecha\"] <= ed]\n",
    "\n",
    "if tag_filter and \"tags\" in df.columns:\n",
    "    df = df[df[\"tags\"].astype(str).str.contains(tag_filter, case=False, na=False)]\n",
    "\n",
    "df.info()"
   ]
  },
  {
   "cell_type": "code",
   "execution_count": null,
   "id": "08e0bb74-532b-4d56-9af9-1abe9018168a",
   "metadata": {},
   "outputs": [],
   "source": []
  }
 ],
 "metadata": {
  "kernelspec": {
   "display_name": "Python (jupyter_env)",
   "language": "python",
   "name": "jupyter_env"
  },
  "language_info": {
   "codemirror_mode": {
    "name": "ipython",
    "version": 3
   },
   "file_extension": ".py",
   "mimetype": "text/x-python",
   "name": "python",
   "nbconvert_exporter": "python",
   "pygments_lexer": "ipython3",
   "version": "3.13.5"
  }
 },
 "nbformat": 4,
 "nbformat_minor": 5
}
