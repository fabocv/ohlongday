{
 "cells": [
  {
   "cell_type": "code",
   "execution_count": 1,
   "id": "84f7ccc9-b626-4281-a3cf-708e4997b736",
   "metadata": {},
   "outputs": [
    {
     "name": "stdout",
     "output_type": "stream",
     "text": [
      "Reporte generado en: /home/fabo/BDP/ohlongday/output/informe.html\n"
     ]
    }
   ],
   "source": [
    "# bdp_main.py\n",
    "import argparse, json, sys\n",
    "from reporte_python.bdp_report_coach import generate_report_coach\n",
    "\n",
    "def parse_known_args(argv=None):\n",
    "    p = argparse.ArgumentParser(description=\"Genera el informe BDP (coaching).\")\n",
    "    p.add_argument(\"--input\", \"-i\", default=\"data/bdp_data.csv\", help=\"Ruta CSV de entrada\")\n",
    "    p.add_argument(\"--output\", \"-o\", default=\"output/informe.html\", help=\"Ruta HTML de salida\")\n",
    "    p.add_argument(\"--config\", \"-c\", default=\"reporte_python.bdp_config.json\", help=\"Ruta JSON de configuración (opcional)\")\n",
    "    p.add_argument(\"--start\", \"-s\", help=\"Fecha inicio (dd-MM-YYYY)\")\n",
    "    p.add_argument(\"--end\", \"-e\", help=\"Fecha fin (dd-MM-YYYY)\")\n",
    "    p.add_argument(\"--tag\", \"-t\", help=\"Filtrar por tag (subcadena)\")\n",
    "    return p.parse_known_args(argv)\n",
    "\n",
    "if __name__ == \"__main__\":\n",
    "    args, _ = parse_known_args(sys.argv)\n",
    "    cfg = None\n",
    "    if args.config:\n",
    "        try:\n",
    "            with open(args.config, \"r\", encoding=\"utf-8\") as f:\n",
    "                cfg = json.load(f)\n",
    "        except FileNotFoundError:\n",
    "            cfg = None\n",
    "    path = generate_report_coach(\n",
    "        input_csv=args.input,\n",
    "        output_html=args.output,\n",
    "        config=cfg,\n",
    "        start_date=args.start,\n",
    "        end_date=args.end,\n",
    "        tag_filter=args.tag\n",
    "    )\n",
    "    print(f\"Reporte generado en: {path}\")\n"
   ]
  },
  {
   "cell_type": "code",
   "execution_count": null,
   "id": "e0ad8b61-1976-465b-a8fe-dbf30e9928cc",
   "metadata": {},
   "outputs": [],
   "source": []
  },
  {
   "cell_type": "code",
   "execution_count": null,
   "id": "2143ccc4-28e5-48c7-a611-1a665ee937eb",
   "metadata": {},
   "outputs": [],
   "source": []
  }
 ],
 "metadata": {
  "kernelspec": {
   "display_name": "Python (jupyter_env)",
   "language": "python",
   "name": "jupyter_env"
  },
  "language_info": {
   "codemirror_mode": {
    "name": "ipython",
    "version": 3
   },
   "file_extension": ".py",
   "mimetype": "text/x-python",
   "name": "python",
   "nbconvert_exporter": "python",
   "pygments_lexer": "ipython3",
   "version": "3.13.5"
  }
 },
 "nbformat": 4,
 "nbformat_minor": 5
}
