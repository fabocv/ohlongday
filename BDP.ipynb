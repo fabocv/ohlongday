{
 "cells": [
  {
   "cell_type": "code",
   "execution_count": 4,
   "id": "4754ea49-bbc7-4e7d-9c02-1f3e378fbfc8",
   "metadata": {},
   "outputs": [
    {
     "name": "stdout",
     "output_type": "stream",
     "text": [
      "Reporte generado en: reporte.html\n"
     ]
    }
   ],
   "source": [
    "from reporte_python.bdp_main import *\n",
    "\n",
    "INPUT_CSV = \"data/bdp_data_fake.csv\"\n",
    "REPORT_HTML = \"reporte.html\"\n",
    "\n",
    "output_path = generate_report(INPUT_CSV, REPORT_HTML)"
   ]
  },
  {
   "cell_type": "code",
   "execution_count": null,
   "id": "24ee0717-ff00-414d-a6d4-f6c86518ed07",
   "metadata": {},
   "outputs": [],
   "source": []
  }
 ],
 "metadata": {
  "kernelspec": {
   "display_name": "Python (jupyter_env)",
   "language": "python",
   "name": "jupyter_env"
  },
  "language_info": {
   "codemirror_mode": {
    "name": "ipython",
    "version": 3
   },
   "file_extension": ".py",
   "mimetype": "text/x-python",
   "name": "python",
   "nbconvert_exporter": "python",
   "pygments_lexer": "ipython3",
   "version": "3.13.5"
  }
 },
 "nbformat": 4,
 "nbformat_minor": 5
}
