{
 "cells": [
  {
   "cell_type": "code",
   "execution_count": 1,
   "id": "84f7ccc9-b626-4281-a3cf-708e4997b736",
   "metadata": {},
   "outputs": [
    {
     "name": "stdout",
     "output_type": "stream",
     "text": [
      "Reporte generado en output/informe.html\n"
     ]
    }
   ],
   "source": [
    "# bdp_main.py\n",
    "import argparse, sys, json\n",
    "from reporte_python.bdp_report_coach import generate_report_coach\n",
    "from reporte_python.helpers import _preprocess_csv_for_coach\n",
    "\n",
    "input_csv =\"data/bdp_sample.csv\"\n",
    "targets = \"animo,claridad,estres,activacion\".split(\",\")\n",
    "output =\"./outputs\"\n",
    "target_email = \"suushi120@gmail.com\"\n",
    "lookback_days = 6\n",
    "row_idx = -1\n",
    "target_day = \"26-08-2025\"\n",
    "\n",
    "\n",
    "\n",
    "def parse_known_args(argv=None):\n",
    "    p = argparse.ArgumentParser(description=\"Genera el informe BDP (coaching).\")\n",
    "    p.add_argument(\"--input\", \"-i\", default=\"data/bdp_sample.csv\", help=\"Ruta CSV de entrada\")\n",
    "    p.add_argument(\"--output\", \"-o\", default=\"output/informe.html\", help=\"Ruta HTML de salida\")\n",
    "    p.add_argument(\"--config\", \"-c\", default=\"reporte_python.bdp_config.json\", help=\"Ruta JSON de configuración (opcional)\")\n",
    "    p.add_argument(\"--start\", \"-s\", help=\"Fecha inicio (dd-MM-YYYY)\")\n",
    "    p.add_argument(\"--end\", \"-e\", help=\"Fecha fin (dd-MM-YYYY)\")\n",
    "    p.add_argument(\"--tag\", \"-t\", help=\"Filtrar por tag (subcadena)\")\n",
    "    p.add_argument(\"--email\", \"-m\", default=target_email, help=\"Filtrar por correo (columna 'correo')\")\n",
    "    return p.parse_known_args(argv)\n",
    "\n",
    "if __name__ == \"__main__\":\n",
    "    args, _ = parse_known_args(sys.argv[1:])\n",
    "    cfg = None\n",
    "    if args.config:\n",
    "        try:\n",
    "            with open(args.config, \"r\", encoding=\"utf-8\") as f:\n",
    "                cfg = json.load(f)\n",
    "        except FileNotFoundError:\n",
    "            cfg = None\n",
    "\n",
    "    # Preprocesa: normaliza hora 'a. m./p. m.', garantiza 'fecha'/'hora', filtra por correo\n",
    "    pre_csv = _preprocess_csv_for_coach(args.input, args.email)\n",
    "\n",
    "    # generate_report_coach LEE CSV y filtra por fechas/tag internamente\n",
    "    _df, _cards = generate_report_coach(\n",
    "        input_csv=pre_csv,\n",
    "        output_html=args.output,\n",
    "        config=cfg,\n",
    "        start_date=args.start,\n",
    "        end_date=args.end,\n",
    "        tag_filter=args.tag\n",
    "    )\n",
    "    print(f\"Reporte generado en {args.output}\")\n"
   ]
  },
  {
   "cell_type": "code",
   "execution_count": null,
   "id": "97cd97db-7b74-42a5-937d-b443d211554a",
   "metadata": {},
   "outputs": [],
   "source": []
  }
 ],
 "metadata": {
  "kernelspec": {
   "display_name": "Python (jupyter_env)",
   "language": "python",
   "name": "jupyter_env"
  },
  "language_info": {
   "codemirror_mode": {
    "name": "ipython",
    "version": 3
   },
   "file_extension": ".py",
   "mimetype": "text/x-python",
   "name": "python",
   "nbconvert_exporter": "python",
   "pygments_lexer": "ipython3",
   "version": "3.13.5"
  }
 },
 "nbformat": 4,
 "nbformat_minor": 5
}
