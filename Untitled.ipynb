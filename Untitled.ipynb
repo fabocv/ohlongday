{
 "cells": [
  {
   "cell_type": "code",
   "execution_count": 1,
   "id": "0950c8d4-1492-4f53-97ca-175eac77ad85",
   "metadata": {},
   "outputs": [],
   "source": [
    "#!pip install scikit-learn "
   ]
  },
  {
   "cell_type": "code",
   "execution_count": 2,
   "id": "b53612df-e57e-483c-8620-00d5e070a128",
   "metadata": {},
   "outputs": [],
   "source": [
    "from lab.bdp_pipeline import load_csv_or_template, build_and_evaluate"
   ]
  },
  {
   "cell_type": "code",
   "execution_count": 4,
   "id": "58a72b88-0c75-4bf2-9c73-831135b18fe2",
   "metadata": {},
   "outputs": [
    {
     "ename": "AttributeError",
     "evalue": "'NoneType' object has no attribute 'fillna'",
     "output_type": "error",
     "traceback": [
      "\u001b[31m---------------------------------------------------------------------------\u001b[39m",
      "\u001b[31mAttributeError\u001b[39m                            Traceback (most recent call last)",
      "\u001b[36mCell\u001b[39m\u001b[36m \u001b[39m\u001b[32mIn[4]\u001b[39m\u001b[32m, line 3\u001b[39m\n\u001b[32m      1\u001b[39m \u001b[38;5;28;01mimport\u001b[39;00m\u001b[38;5;250m \u001b[39m\u001b[34;01mos\u001b[39;00m\n\u001b[32m      2\u001b[39m df = load_csv_or_template(\u001b[33m\"\u001b[39m\u001b[33mdata/bdp_sample.csv\u001b[39m\u001b[33m\"\u001b[39m)\n\u001b[32m----> \u001b[39m\u001b[32m3\u001b[39m results = build_and_evaluate(df, export_dir=\u001b[33m\"\u001b[39m\u001b[33m./outputs\u001b[39m\u001b[33m\"\u001b[39m)\n\u001b[32m      5\u001b[39m \u001b[38;5;66;03m# Guardo el dataframe enriquecido por si se quiere inspeccionar\u001b[39;00m\n\u001b[32m      6\u001b[39m enr_path = os.path.join(\u001b[33m\"\u001b[39m\u001b[33m./outputs\u001b[39m\u001b[33m\"\u001b[39m, \u001b[33m\"\u001b[39m\u001b[33mbdp_out.csv\u001b[39m\u001b[33m\"\u001b[39m)\n",
      "\u001b[36mFile \u001b[39m\u001b[32m~/BDP/ohlongday/lab/bdp_pipeline.py:762\u001b[39m, in \u001b[36mbuild_and_evaluate\u001b[39m\u001b[34m(df, export_dir)\u001b[39m\n\u001b[32m    759\u001b[39m df = ensure_unique_column_names(df)\n\u001b[32m    761\u001b[39m \u001b[38;5;66;03m# 1) Tiempo\u001b[39;00m\n\u001b[32m--> \u001b[39m\u001b[32m762\u001b[39m df = parse_datetime(df)\n\u001b[32m    764\u001b[39m \u001b[38;5;66;03m# 2) Numéricos + conteos\u001b[39;00m\n\u001b[32m    765\u001b[39m df = add_basic_numeric(df)\n",
      "\u001b[36mFile \u001b[39m\u001b[32m~/BDP/ohlongday/lab/bdp_pipeline.py:130\u001b[39m, in \u001b[36mparse_datetime\u001b[39m\u001b[34m(df)\u001b[39m\n\u001b[32m    128\u001b[39m \u001b[38;5;66;03m# fallback: solo fecha si hora no parsea\u001b[39;00m\n\u001b[32m    129\u001b[39m fallback = pd.to_datetime(df.get(\u001b[33m\"\u001b[39m\u001b[33mfecha\u001b[39m\u001b[33m\"\u001b[39m), errors=\u001b[33m\"\u001b[39m\u001b[33mcoerce\u001b[39m\u001b[33m\"\u001b[39m, dayfirst=\u001b[38;5;28;01mTrue\u001b[39;00m)\n\u001b[32m--> \u001b[39m\u001b[32m130\u001b[39m dt = dt.fillna(fallback)\n\u001b[32m    132\u001b[39m df[\u001b[33m\"\u001b[39m\u001b[33mdt\u001b[39m\u001b[33m\"\u001b[39m] = dt\n\u001b[32m    133\u001b[39m df = df.sort_values(\u001b[33m\"\u001b[39m\u001b[33mdt\u001b[39m\u001b[33m\"\u001b[39m).drop_duplicates(subset=[\u001b[33m\"\u001b[39m\u001b[33mdt\u001b[39m\u001b[33m\"\u001b[39m], keep=\u001b[33m\"\u001b[39m\u001b[33mlast\u001b[39m\u001b[33m\"\u001b[39m).reset_index(drop=\u001b[38;5;28;01mTrue\u001b[39;00m)\n",
      "\u001b[31mAttributeError\u001b[39m: 'NoneType' object has no attribute 'fillna'"
     ]
    }
   ],
   "source": [
    "import os\n",
    "df = load_csv_or_template(\"data/bdp_sample.csv\")\n",
    "results = build_and_evaluate(df, export_dir=\"./outputs\")\n",
    "\n",
    "# Guardo el dataframe enriquecido por si se quiere inspeccionar\n",
    "enr_path = os.path.join(\"./outputs\", \"bdp_out.csv\")\n",
    "results[\"df\"].to_csv(enr_path, index=False, encoding=\"utf-8\")\n",
    "print(f\"[OK] Pipeline completo. Archivos en: {os.path.abspath(\"./outputs\")}\")"
   ]
  },
  {
   "cell_type": "code",
   "execution_count": null,
   "id": "4b56801e-a3ed-4673-bf36-8a63a7723acb",
   "metadata": {},
   "outputs": [],
   "source": []
  }
 ],
 "metadata": {
  "kernelspec": {
   "display_name": "Python (jupyter_env)",
   "language": "python",
   "name": "jupyter_env"
  },
  "language_info": {
   "codemirror_mode": {
    "name": "ipython",
    "version": 3
   },
   "file_extension": ".py",
   "mimetype": "text/x-python",
   "name": "python",
   "nbconvert_exporter": "python",
   "pygments_lexer": "ipython3",
   "version": "3.13.5"
  }
 },
 "nbformat": 4,
 "nbformat_minor": 5
}
