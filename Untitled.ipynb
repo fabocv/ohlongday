{
 "cells": [
  {
   "cell_type": "code",
   "execution_count": 1,
   "id": "0950c8d4-1492-4f53-97ca-175eac77ad85",
   "metadata": {},
   "outputs": [],
   "source": [
    "#!pip install scikit-learn "
   ]
  },
  {
   "cell_type": "code",
   "execution_count": 2,
   "id": "b53612df-e57e-483c-8620-00d5e070a128",
   "metadata": {},
   "outputs": [],
   "source": [
    "from lab.bdp_pipeline import load_csv_or_template, build_and_evaluate"
   ]
  },
  {
   "cell_type": "code",
   "execution_count": 3,
   "id": "58a72b88-0c75-4bf2-9c73-831135b18fe2",
   "metadata": {},
   "outputs": [
    {
     "name": "stdout",
     "output_type": "stream",
     "text": [
      "[AVISO] Muy pocos datos para estres: 11 filas. Se entrenará igual, pero la validación puede ser débil.\n",
      "[AVISO] Muy pocos datos para animo: 11 filas. Se entrenará igual, pero la validación puede ser débil.\n",
      "[AVISO] Muy pocos datos para claridad: 11 filas. Se entrenará igual, pero la validación puede ser débil.\n",
      "[AVISO] Muy pocos datos para activacion: 11 filas. Se entrenará igual, pero la validación puede ser débil.\n",
      "[OK] Pipeline completo. Archivos en: /home/fabo/BDP/ohlongday/outputs\n"
     ]
    }
   ],
   "source": [
    "import os\n",
    "df = load_csv_or_template(\"data/bdp_data.csv\")\n",
    "results = build_and_evaluate(df, export_dir=\"./outputs\")\n",
    "\n",
    "# Guardo el dataframe enriquecido por si se quiere inspeccionar\n",
    "enr_path = os.path.join(\"./outputs\", \"bdp_out.csv\")\n",
    "results[\"df\"].to_csv(enr_path, index=False, encoding=\"utf-8\")\n",
    "print(f\"[OK] Pipeline completo. Archivos en: {os.path.abspath(\"./outputs\")}\")"
   ]
  },
  {
   "cell_type": "code",
   "execution_count": null,
   "id": "4b56801e-a3ed-4673-bf36-8a63a7723acb",
   "metadata": {},
   "outputs": [],
   "source": []
  }
 ],
 "metadata": {
  "kernelspec": {
   "display_name": "Python (jupyter_env)",
   "language": "python",
   "name": "jupyter_env"
  },
  "language_info": {
   "codemirror_mode": {
    "name": "ipython",
    "version": 3
   },
   "file_extension": ".py",
   "mimetype": "text/x-python",
   "name": "python",
   "nbconvert_exporter": "python",
   "pygments_lexer": "ipython3",
   "version": "3.13.5"
  }
 },
 "nbformat": 4,
 "nbformat_minor": 5
}
