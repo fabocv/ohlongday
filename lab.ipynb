{
 "cells": [
  {
   "cell_type": "code",
   "execution_count": 1,
   "id": "9489c748-b695-49db-ad54-ab0123c7ebfb",
   "metadata": {},
   "outputs": [
    {
     "name": "stderr",
     "output_type": "stream",
     "text": [
      "/home/fabo/BDP/ohlongday/bdp_calcs/utils.py:86: UserWarning: The argument 'infer_datetime_format' is deprecated and will be removed in a future version. A strict version of it is now the default, see https://pandas.pydata.org/pdeps/0004-consistent-to-datetime-parsing.html. You can safely remove this argument.\n",
      "  dt = pd.to_datetime(combo.str.strip(), errors=\"coerce\", dayfirst=dayfirst, infer_datetime_format=True)\n",
      "/home/fabo/BDP/ohlongday/bdp_calcs/utils.py:86: UserWarning: Parsing dates in %Y-%m-%d %H:%M:%S format when dayfirst=True was specified. Pass `dayfirst=False` or specify a format to silence this warning.\n",
      "  dt = pd.to_datetime(combo.str.strip(), errors=\"coerce\", dayfirst=dayfirst, infer_datetime_format=True)\n"
     ]
    }
   ],
   "source": [
    "from bdp_calcs import (\n",
    "  parsear_tiempos, calc_sueno, calc_estimulantes, calc_actividad_luz_pantalla,\n",
    "  calc_psicosocial, calc_medicacion_sustancias, calc_indices, calc_temporales\n",
    ")\n",
    "import pandas as pd\n",
    "\n",
    "df = pd.read_csv(\"data/bdp_personal.csv\")\n",
    "df = parsear_tiempos(df)\n",
    "df = calc_sueno(df)\n",
    "df = calc_estimulantes(df)\n",
    "df = calc_actividad_luz_pantalla(df)\n",
    "df = calc_psicosocial(df)\n",
    "df = calc_medicacion_sustancias(df)\n",
    "df = calc_indices(df)\n",
    "df = calc_temporales(df, ema_cols=[\"animo\",\"claridad\",\"estres\",\"activacion\"],\n",
    "                     lagcols=[\"animo\",\"claridad\",\"estres\",\"activacion\"])"
   ]
  },
  {
   "cell_type": "code",
   "execution_count": 2,
   "id": "2649871e-3b53-48d8-8057-b9216814c8dd",
   "metadata": {},
   "outputs": [],
   "source": [
    "from bdp_calcs.audit import core_audit\n",
    "from bdp_calcs.drivers import *\n",
    "from bdp_calcs.relations import *"
   ]
  },
  {
   "cell_type": "code",
   "execution_count": 3,
   "id": "13229014-f9f2-464f-a4b7-f91dc1cf5aae",
   "metadata": {},
   "outputs": [],
   "source": [
    "import os, sys, argparse\n",
    "import pandas as pd"
   ]
  },
  {
   "cell_type": "code",
   "execution_count": 4,
   "id": "2996e994-6e0e-497b-8d45-3e90415ed8ab",
   "metadata": {},
   "outputs": [],
   "source": [
    "\n",
    "input_csv =\"data/bdp_personal.csv\"\n",
    "targets = \"animo,claridad,estres,activacion\".split(\",\")\n",
    "output =\"./outputs\"\n",
    "row_idx = -1\n",
    "\n",
    "df = pd.read_csv(input_csv, encoding=\"utf-8\")"
   ]
  },
  {
   "cell_type": "code",
   "execution_count": 5,
   "id": "62946930-04b7-4449-aff4-d147f8588e29",
   "metadata": {},
   "outputs": [
    {
     "name": "stderr",
     "output_type": "stream",
     "text": [
      "/opt/miniconda3/envs/jupyter_env/lib/python3.13/site-packages/sklearn/linear_model/_coordinate_descent.py:1641: FutureWarning: 'alphas=None' is deprecated and will be removed in 1.9, at which point the default value will be set to 100. Set 'alphas=100' to silence this warning.\n",
      "  warnings.warn(\n",
      "/opt/miniconda3/envs/jupyter_env/lib/python3.13/site-packages/sklearn/linear_model/_coordinate_descent.py:1641: FutureWarning: 'alphas=None' is deprecated and will be removed in 1.9, at which point the default value will be set to 100. Set 'alphas=100' to silence this warning.\n",
      "  warnings.warn(\n",
      "/opt/miniconda3/envs/jupyter_env/lib/python3.13/site-packages/sklearn/linear_model/_coordinate_descent.py:1641: FutureWarning: 'alphas=None' is deprecated and will be removed in 1.9, at which point the default value will be set to 100. Set 'alphas=100' to silence this warning.\n",
      "  warnings.warn(\n",
      "/opt/miniconda3/envs/jupyter_env/lib/python3.13/site-packages/sklearn/linear_model/_coordinate_descent.py:1641: FutureWarning: 'alphas=None' is deprecated and will be removed in 1.9, at which point the default value will be set to 100. Set 'alphas=100' to silence this warning.\n",
      "  warnings.warn(\n",
      "/opt/miniconda3/envs/jupyter_env/lib/python3.13/site-packages/sklearn/linear_model/_coordinate_descent.py:695: ConvergenceWarning: Objective did not converge. You might want to increase the number of iterations, check the scale of the features or consider increasing regularisation. Duality gap: 0.000e+00, tolerance: 0.000e+00\n",
      "  model = cd_fast.enet_coordinate_descent(\n",
      "/opt/miniconda3/envs/jupyter_env/lib/python3.13/site-packages/sklearn/linear_model/_coordinate_descent.py:695: ConvergenceWarning: Objective did not converge. You might want to increase the number of iterations, check the scale of the features or consider increasing regularisation. Duality gap: 0.000e+00, tolerance: 0.000e+00\n",
      "  model = cd_fast.enet_coordinate_descent(\n",
      "/opt/miniconda3/envs/jupyter_env/lib/python3.13/site-packages/sklearn/linear_model/_coordinate_descent.py:695: ConvergenceWarning: Objective did not converge. You might want to increase the number of iterations, check the scale of the features or consider increasing regularisation. Duality gap: 0.000e+00, tolerance: 0.000e+00\n",
      "  model = cd_fast.enet_coordinate_descent(\n",
      "/opt/miniconda3/envs/jupyter_env/lib/python3.13/site-packages/sklearn/linear_model/_coordinate_descent.py:695: ConvergenceWarning: Objective did not converge. You might want to increase the number of iterations, check the scale of the features or consider increasing regularisation. Duality gap: 0.000e+00, tolerance: 0.000e+00\n",
      "  model = cd_fast.enet_coordinate_descent(\n",
      "/opt/miniconda3/envs/jupyter_env/lib/python3.13/site-packages/sklearn/linear_model/_coordinate_descent.py:695: ConvergenceWarning: Objective did not converge. You might want to increase the number of iterations, check the scale of the features or consider increasing regularisation. Duality gap: 0.000e+00, tolerance: 0.000e+00\n",
      "  model = cd_fast.enet_coordinate_descent(\n",
      "/opt/miniconda3/envs/jupyter_env/lib/python3.13/site-packages/sklearn/linear_model/_coordinate_descent.py:695: ConvergenceWarning: Objective did not converge. You might want to increase the number of iterations, check the scale of the features or consider increasing regularisation. Duality gap: 0.000e+00, tolerance: 0.000e+00\n",
      "  model = cd_fast.enet_coordinate_descent(\n",
      "/opt/miniconda3/envs/jupyter_env/lib/python3.13/site-packages/sklearn/linear_model/_coordinate_descent.py:1641: FutureWarning: 'alphas=None' is deprecated and will be removed in 1.9, at which point the default value will be set to 100. Set 'alphas=100' to silence this warning.\n",
      "  warnings.warn(\n",
      "/opt/miniconda3/envs/jupyter_env/lib/python3.13/site-packages/sklearn/linear_model/_coordinate_descent.py:1641: FutureWarning: 'alphas=None' is deprecated and will be removed in 1.9, at which point the default value will be set to 100. Set 'alphas=100' to silence this warning.\n",
      "  warnings.warn(\n",
      "/opt/miniconda3/envs/jupyter_env/lib/python3.13/site-packages/sklearn/linear_model/_coordinate_descent.py:1641: FutureWarning: 'alphas=None' is deprecated and will be removed in 1.9, at which point the default value will be set to 100. Set 'alphas=100' to silence this warning.\n",
      "  warnings.warn(\n",
      "/opt/miniconda3/envs/jupyter_env/lib/python3.13/site-packages/sklearn/linear_model/_coordinate_descent.py:1641: FutureWarning: 'alphas=None' is deprecated and will be removed in 1.9, at which point the default value will be set to 100. Set 'alphas=100' to silence this warning.\n",
      "  warnings.warn(\n"
     ]
    },
    {
     "name": "stdout",
     "output_type": "stream",
     "text": [
      "Audit guardado en: ./outputs/core_audit.csv\n",
      "       target  coverage       rel       ac1  mae_model  mae_naive  mae_ema  \\\n",
      "0       animo       1.0  0.500000  0.339450   1.279255       0.25      NaN   \n",
      "1    claridad       1.0  0.333333  0.699031   0.591495       0.50      NaN   \n",
      "2      estres       1.0  0.666667  0.598668   1.376231       1.00      NaN   \n",
      "3  activacion       1.0  0.000000  0.134615   1.229001       0.75      NaN   \n",
      "\n",
      "   gain_vs_best_baseline  actionability_pct  distinctiveness  n_samples  \\\n",
      "0              -4.117019                1.0              NaN         11   \n",
      "1              -0.182990                1.0              NaN         11   \n",
      "2              -0.376231                1.0              NaN         11   \n",
      "3              -0.638668                1.0              NaN         11   \n",
      "\n",
      "   n_splits  \n",
      "0         2  \n",
      "1         2  \n",
      "2         2  \n",
      "3         2  \n",
      "\n",
      "[Drivers del día] animo → Animo: Δobs=0.0; Δpred≈-0.78 | ↑ meditacion_min, exposicion_sol_min, horas_sueno | ↓ alimentacion, horas_sueno, exposicion_sol_min \n",
      "Interpretación → Ánimo estable. Apoyaron: respiración/meditación, exposición al sol. Restaron: alimentación, horas de sueño. Para estabilizar: luz AM 10–15′, cortar café ≥6h antes de dormir, 5–10′ de respiración.\n",
      "\n",
      "[Drivers del día] claridad → Claridad: Δobs=-1.0; Δpred≈0.27 | ↑ alimentacion, meditacion_min, exposicion_sol_min | ↓ horas_sueno, exposicion_sol_min, meditacion_min \n",
      "Interpretación → Claridad a la baja. Favorecieron: alimentación, respiración/meditación. Dificultaron: horas de sueño, exposición al sol.  Día con cambios leves; confía en la EMA14 para referencia. Enfoca higiene circadiana: sueño suficiente, luz de mañana y menos pantalla de noche.\n",
      "\n",
      "[Drivers del día] estres → Estres: Δobs=3.0; Δpred≈-0.3 | ↑ alimentacion, horas_sueno, exposicion_sol_min | ↓ meditacion_min, exposicion_sol_min, horas_sueno \n",
      "Interpretación → Estrés al alza. Redujeron: alimentación, horas de sueño. Elevadores: respiración/meditación, exposición al sol. Si sube, prueba pausa breve + respiración 4-6 y delimita un siguiente paso acotado.\n",
      "\n",
      "[Drivers del día] activacion → Activacion: Δobs=0.0; Δpred≈-0.15 | ↑ meditacion_min, exposicion_sol_min, horas_sueno | ↓ alimentacion, horas_sueno, exposicion_sol_min \n",
      "Interpretación → Activación estable. Impulsaron: respiración/meditación, exposición al sol. Atenuaron: alimentación, horas de sueño.  Día con cambios leves; confía en la EMA14 para referencia. Para afinar: algo de luz/movimiento temprano; evita alcohol tarde y acumular deuda de sueño.\n"
     ]
    },
    {
     "name": "stderr",
     "output_type": "stream",
     "text": [
      "/opt/miniconda3/envs/jupyter_env/lib/python3.13/site-packages/sklearn/utils/validation.py:2749: UserWarning: X does not have valid feature names, but StandardScaler was fitted with feature names\n",
      "  warnings.warn(\n",
      "/opt/miniconda3/envs/jupyter_env/lib/python3.13/site-packages/sklearn/utils/validation.py:2749: UserWarning: X does not have valid feature names, but StandardScaler was fitted with feature names\n",
      "  warnings.warn(\n",
      "/opt/miniconda3/envs/jupyter_env/lib/python3.13/site-packages/sklearn/utils/validation.py:2749: UserWarning: X does not have valid feature names, but StandardScaler was fitted with feature names\n",
      "  warnings.warn(\n",
      "/opt/miniconda3/envs/jupyter_env/lib/python3.13/site-packages/sklearn/utils/validation.py:2749: UserWarning: X does not have valid feature names, but StandardScaler was fitted with feature names\n",
      "  warnings.warn(\n"
     ]
    }
   ],
   "source": [
    "#targets = [t.strip() for t in targets if t.strip()]\n",
    "audit_df = core_audit(df, targets)\n",
    "audit_path = output + \"/core_audit.csv\"\n",
    "audit_df.to_csv(audit_path, index=False, encoding=\"utf-8\")\n",
    "print(\"Audit guardado en:\", audit_path)\n",
    "print(audit_df)\n",
    "\n",
    "# Drivers del día para cada target\n",
    "for t in targets:\n",
    "    res = drivers_del_dia(df, t, top_k=3)\n",
    "    txt = res.get(\"texto\",\"\")\n",
    "    tab = res.get(\"tabla\")\n",
    "    narrativa = res.get(\"narrativa\")\n",
    "    print(\"\\n[Drivers del día]\", t, \"→\", txt, \"\\nInterpretación →\", narrativa)\n",
    "    if isinstance(tab, pd.DataFrame) and not tab.empty:\n",
    "        tab.to_csv(os.path.join(output, f\"{t}_drivers_del_dia.csv\"), index=False, encoding=\"utf-8\")\n"
   ]
  },
  {
   "cell_type": "code",
   "execution_count": 6,
   "id": "0a67e4fe-6987-40db-866c-10389012395e",
   "metadata": {},
   "outputs": [
    {
     "name": "stdout",
     "output_type": "stream",
     "text": [
      "WB guardado en: ./outputs/wellbeing_index_series.csv\n",
      "Correlaciones listas: core_cor_levels.csv, core_cor_deltas.csv\n",
      "Influencia cruzada: insuficiente señal (necesita más filas).\n"
     ]
    },
    {
     "name": "stderr",
     "output_type": "stream",
     "text": [
      "/opt/miniconda3/envs/jupyter_env/lib/python3.13/site-packages/sklearn/utils/validation.py:2749: UserWarning: X does not have valid feature names, but StandardScaler was fitted with feature names\n",
      "  warnings.warn(\n",
      "/opt/miniconda3/envs/jupyter_env/lib/python3.13/site-packages/sklearn/utils/validation.py:2749: UserWarning: X does not have valid feature names, but StandardScaler was fitted with feature names\n",
      "  warnings.warn(\n",
      "/opt/miniconda3/envs/jupyter_env/lib/python3.13/site-packages/sklearn/utils/validation.py:2749: UserWarning: X does not have valid feature names, but StandardScaler was fitted with feature names\n",
      "  warnings.warn(\n",
      "/opt/miniconda3/envs/jupyter_env/lib/python3.13/site-packages/sklearn/utils/validation.py:2749: UserWarning: X does not have valid feature names, but StandardScaler was fitted with feature names\n",
      "  warnings.warn(\n",
      "/opt/miniconda3/envs/jupyter_env/lib/python3.13/site-packages/sklearn/utils/validation.py:2749: UserWarning: X does not have valid feature names, but StandardScaler was fitted with feature names\n",
      "  warnings.warn(\n",
      "/opt/miniconda3/envs/jupyter_env/lib/python3.13/site-packages/sklearn/utils/validation.py:2749: UserWarning: X does not have valid feature names, but StandardScaler was fitted with feature names\n",
      "  warnings.warn(\n",
      "/opt/miniconda3/envs/jupyter_env/lib/python3.13/site-packages/sklearn/utils/validation.py:2749: UserWarning: X does not have valid feature names, but StandardScaler was fitted with feature names\n",
      "  warnings.warn(\n",
      "/opt/miniconda3/envs/jupyter_env/lib/python3.13/site-packages/sklearn/utils/validation.py:2749: UserWarning: X does not have valid feature names, but StandardScaler was fitted with feature names\n",
      "  warnings.warn(\n",
      "/opt/miniconda3/envs/jupyter_env/lib/python3.13/site-packages/sklearn/utils/validation.py:2749: UserWarning: X does not have valid feature names, but StandardScaler was fitted with feature names\n",
      "  warnings.warn(\n",
      "/opt/miniconda3/envs/jupyter_env/lib/python3.13/site-packages/sklearn/utils/validation.py:2749: UserWarning: X does not have valid feature names, but StandardScaler was fitted with feature names\n",
      "  warnings.warn(\n",
      "/opt/miniconda3/envs/jupyter_env/lib/python3.13/site-packages/sklearn/utils/validation.py:2749: UserWarning: X does not have valid feature names, but StandardScaler was fitted with feature names\n",
      "  warnings.warn(\n",
      "/opt/miniconda3/envs/jupyter_env/lib/python3.13/site-packages/sklearn/utils/validation.py:2749: UserWarning: X does not have valid feature names, but StandardScaler was fitted with feature names\n",
      "  warnings.warn(\n",
      "/opt/miniconda3/envs/jupyter_env/lib/python3.13/site-packages/sklearn/utils/validation.py:2749: UserWarning: X does not have valid feature names, but StandardScaler was fitted with feature names\n",
      "  warnings.warn(\n",
      "/opt/miniconda3/envs/jupyter_env/lib/python3.13/site-packages/sklearn/utils/validation.py:2749: UserWarning: X does not have valid feature names, but StandardScaler was fitted with feature names\n",
      "  warnings.warn(\n",
      "/opt/miniconda3/envs/jupyter_env/lib/python3.13/site-packages/sklearn/utils/validation.py:2749: UserWarning: X does not have valid feature names, but StandardScaler was fitted with feature names\n",
      "  warnings.warn(\n",
      "/opt/miniconda3/envs/jupyter_env/lib/python3.13/site-packages/sklearn/utils/validation.py:2749: UserWarning: X does not have valid feature names, but StandardScaler was fitted with feature names\n",
      "  warnings.warn(\n",
      "/opt/miniconda3/envs/jupyter_env/lib/python3.13/site-packages/sklearn/utils/validation.py:2749: UserWarning: X does not have valid feature names, but StandardScaler was fitted with feature names\n",
      "  warnings.warn(\n",
      "/opt/miniconda3/envs/jupyter_env/lib/python3.13/site-packages/sklearn/utils/validation.py:2749: UserWarning: X does not have valid feature names, but StandardScaler was fitted with feature names\n",
      "  warnings.warn(\n",
      "/opt/miniconda3/envs/jupyter_env/lib/python3.13/site-packages/sklearn/utils/validation.py:2749: UserWarning: X does not have valid feature names, but StandardScaler was fitted with feature names\n",
      "  warnings.warn(\n",
      "/opt/miniconda3/envs/jupyter_env/lib/python3.13/site-packages/sklearn/utils/validation.py:2749: UserWarning: X does not have valid feature names, but StandardScaler was fitted with feature names\n",
      "  warnings.warn(\n",
      "/opt/miniconda3/envs/jupyter_env/lib/python3.13/site-packages/sklearn/utils/validation.py:2749: UserWarning: X does not have valid feature names, but StandardScaler was fitted with feature names\n",
      "  warnings.warn(\n",
      "/opt/miniconda3/envs/jupyter_env/lib/python3.13/site-packages/sklearn/utils/validation.py:2749: UserWarning: X does not have valid feature names, but StandardScaler was fitted with feature names\n",
      "  warnings.warn(\n",
      "/opt/miniconda3/envs/jupyter_env/lib/python3.13/site-packages/sklearn/utils/validation.py:2749: UserWarning: X does not have valid feature names, but StandardScaler was fitted with feature names\n",
      "  warnings.warn(\n",
      "/opt/miniconda3/envs/jupyter_env/lib/python3.13/site-packages/sklearn/utils/validation.py:2749: UserWarning: X does not have valid feature names, but StandardScaler was fitted with feature names\n",
      "  warnings.warn(\n",
      "/opt/miniconda3/envs/jupyter_env/lib/python3.13/site-packages/sklearn/utils/validation.py:2749: UserWarning: X does not have valid feature names, but StandardScaler was fitted with feature names\n",
      "  warnings.warn(\n",
      "/opt/miniconda3/envs/jupyter_env/lib/python3.13/site-packages/sklearn/utils/validation.py:2749: UserWarning: X does not have valid feature names, but StandardScaler was fitted with feature names\n",
      "  warnings.warn(\n",
      "/opt/miniconda3/envs/jupyter_env/lib/python3.13/site-packages/sklearn/utils/validation.py:2749: UserWarning: X does not have valid feature names, but StandardScaler was fitted with feature names\n",
      "  warnings.warn(\n",
      "/opt/miniconda3/envs/jupyter_env/lib/python3.13/site-packages/sklearn/utils/validation.py:2749: UserWarning: X does not have valid feature names, but StandardScaler was fitted with feature names\n",
      "  warnings.warn(\n",
      "/opt/miniconda3/envs/jupyter_env/lib/python3.13/site-packages/sklearn/utils/validation.py:2749: UserWarning: X does not have valid feature names, but StandardScaler was fitted with feature names\n",
      "  warnings.warn(\n",
      "/opt/miniconda3/envs/jupyter_env/lib/python3.13/site-packages/sklearn/utils/validation.py:2749: UserWarning: X does not have valid feature names, but StandardScaler was fitted with feature names\n",
      "  warnings.warn(\n",
      "/opt/miniconda3/envs/jupyter_env/lib/python3.13/site-packages/sklearn/utils/validation.py:2749: UserWarning: X does not have valid feature names, but StandardScaler was fitted with feature names\n",
      "  warnings.warn(\n",
      "/opt/miniconda3/envs/jupyter_env/lib/python3.13/site-packages/sklearn/utils/validation.py:2749: UserWarning: X does not have valid feature names, but StandardScaler was fitted with feature names\n",
      "  warnings.warn(\n"
     ]
    },
    {
     "name": "stdout",
     "output_type": "stream",
     "text": [
      "Agregación de drivers exportada (avg/abs/freq).\n",
      "wellbeing_synergy.csv creado (features que más ayudan/perjudican WB).\n"
     ]
    }
   ],
   "source": [
    "# 1) Wellbeing index\n",
    "wb = wellbeing_index(df, targets=targets)\n",
    "wb_path = os.path.join(output, \"wellbeing_index_series.csv\")\n",
    "pd.DataFrame({\"WB\": wb}).to_csv(wb_path, index=False, encoding=\"utf-8\")\n",
    "print(\"WB guardado en:\", wb_path)\n",
    "\n",
    "# 2) Correlaciones (niveles y deltas)\n",
    "cors = core_correlations(df, targets=targets)\n",
    "cors[\"levels\"].to_csv(os.path.join(output, \"core_cor_levels.csv\"), encoding=\"utf-8\")\n",
    "cors[\"deltas\"].to_csv(os.path.join(output, \"core_cor_deltas.csv\"), encoding=\"utf-8\")\n",
    "print(\"Correlaciones listas: core_cor_levels.csv, core_cor_deltas.csv\")\n",
    "\n",
    "# 3) Influencia cruzada (lag-1)\n",
    "infl = crosslag_influence(df, targets=targets)\n",
    "if isinstance(infl, pd.DataFrame) and not infl.empty:\n",
    "    infl.to_csv(os.path.join(output, \"core_crosslag_influence.csv\"), encoding=\"utf-8\")\n",
    "    print(\"Influencia cruzada guardada en: core_crosslag_influence.csv\")\n",
    "else:\n",
    "    print(\"Influencia cruzada: insuficiente señal (necesita más filas).\")\n",
    "\n",
    "# 4) Agregación de drivers del día a lo largo de la historia\n",
    "agg = aggregate_drivers_history(df, drivers_func=drivers_del_dia, targets=targets, top_k=3)\n",
    "# Exportar por target\n",
    "for t, ser in agg[\"avg_contrib\"].items():\n",
    "    if not ser.empty:\n",
    "        ser.to_csv(os.path.join(output, f\"{t}_avg_contrib.csv\"), header=[\"avg_contrib\"], encoding=\"utf-8\")\n",
    "for t, ser in agg[\"abs_contrib\"].items():\n",
    "    if not ser.empty:\n",
    "        ser.to_csv(os.path.join(output, f\"{t}_abs_contrib.csv\"), header=[\"mean_abs_contrib\"], encoding=\"utf-8\")\n",
    "for t, ser in agg[\"freq_sign\"].items():\n",
    "    if not ser.empty:\n",
    "        ser.to_csv(os.path.join(output, f\"{t}_freq_pos.csv\"), header=[\"freq_positive\"], encoding=\"utf-8\")\n",
    "print(\"Agregación de drivers exportada (avg/abs/freq).\")\n",
    "\n",
    "# 5) Sinergia de bienestar (qué drivers tienden a mejorar/empeorar el compuesto)\n",
    "syn = wellbeing_synergy(agg)\n",
    "if not syn.empty:\n",
    "    syn.to_csv(os.path.join(output, \"wellbeing_synergy.csv\"), header=[\"wb_synergy\"], encoding=\"utf-8\")\n",
    "    print(\"wellbeing_synergy.csv creado (features que más ayudan/perjudican WB).\")\n",
    "else:\n",
    "    print(\"Sinergia de bienestar: aún sin datos suficientes.\")"
   ]
  },
  {
   "cell_type": "code",
   "execution_count": 11,
   "id": "a6935600-a1c6-4315-b517-84afd3d12411",
   "metadata": {},
   "outputs": [
    {
     "name": "stderr",
     "output_type": "stream",
     "text": [
      "/opt/miniconda3/envs/jupyter_env/lib/python3.13/site-packages/sklearn/utils/validation.py:2749: UserWarning: X does not have valid feature names, but StandardScaler was fitted with feature names\n",
      "  warnings.warn(\n",
      "/opt/miniconda3/envs/jupyter_env/lib/python3.13/site-packages/sklearn/utils/validation.py:2749: UserWarning: X does not have valid feature names, but StandardScaler was fitted with feature names\n",
      "  warnings.warn(\n",
      "/opt/miniconda3/envs/jupyter_env/lib/python3.13/site-packages/sklearn/utils/validation.py:2749: UserWarning: X does not have valid feature names, but StandardScaler was fitted with feature names\n",
      "  warnings.warn(\n",
      "/opt/miniconda3/envs/jupyter_env/lib/python3.13/site-packages/sklearn/utils/validation.py:2749: UserWarning: X does not have valid feature names, but StandardScaler was fitted with feature names\n",
      "  warnings.warn(\n",
      "/home/fabo/BDP/ohlongday/bdp_calcs/relations.py:383: UserWarning: Parsing dates in %d-%m-%Y format when dayfirst=False (the default) was specified. Pass `dayfirst=True` or specify a format to silence this warning.\n",
      "  out.append(f\"{pd.to_datetime(df['fecha'], errors='coerce').dt.strftime('%d-%m-%Y (%a)').iloc[row_idx] if 'fecha' in df.columns else str(df.index[row_idx])}: su bienestar compuesto está {wb_lbl}.\")\n"
     ]
    },
    {
     "data": {
      "text/plain": [
       "'22-08-2025 (Fri): su bienestar compuesto está a la baja. Por targets: ánimo estable (Δ+0.00); claridad estable (Δ+0.00); estrés al alza (desfavorable) (Δ+1.00); activación estable (Δ+0.00). Motivos probables del día: Ánimo: apoyaron exposición al sol, respiración/meditación; restaron alimentación, horas de sueño. Claridad: apoyaron alimentación, horas de sueño; restaron exposición al sol, respiración/meditación. Estrés: apoyaron exposición al sol, respiración/meditación; restaron alimentación, horas de sueño. Activación: apoyaron exposición al sol, respiración/meditación; restaron alimentación, horas de sueño. Contexto: horas de sueño +0.00h, glicemia +32.00. Se recomienda: Favorece comidas balanceadas y horarios regulares para estabilizar glicemia. Mensaje para terapeuta: Explorar estresores recientes y estrategias de afrontamiento que ayudaron/ no ayudaron.'"
      ]
     },
     "execution_count": 11,
     "metadata": {},
     "output_type": "execute_result"
    }
   ],
   "source": [
    "#resumen = narrative_summary(df, targets)\n",
    "resumen = descriptive_summary(df, targets,row_idx=4)\n",
    "resumen"
   ]
  },
  {
   "cell_type": "code",
   "execution_count": null,
   "id": "69b33e53-45d2-42fc-a989-e3b24281cf5a",
   "metadata": {},
   "outputs": [],
   "source": []
  }
 ],
 "metadata": {
  "kernelspec": {
   "display_name": "Python (jupyter_env)",
   "language": "python",
   "name": "jupyter_env"
  },
  "language_info": {
   "codemirror_mode": {
    "name": "ipython",
    "version": 3
   },
   "file_extension": ".py",
   "mimetype": "text/x-python",
   "name": "python",
   "nbconvert_exporter": "python",
   "pygments_lexer": "ipython3",
   "version": "3.13.5"
  }
 },
 "nbformat": 4,
 "nbformat_minor": 5
}
