{
 "cells": [
  {
   "cell_type": "code",
   "execution_count": null,
   "id": "9d76f4f7-02e7-412e-bcf5-6f11cc2031c0",
   "metadata": {},
   "outputs": [],
   "source": [
    "input_csv =\"data/bdp_sample.csv\"\n",
    "targets = \"animo,claridad,estres,activacion\".split(\",\")\n",
    "output =\"./outputs\"\n",
    "target_email = \"test@gmail.com\"\n",
    "lookback_days = 6\n",
    "row_idx = -1\n",
    "target_day = \"27-08-2025\""
   ]
  },
  {
   "cell_type": "code",
   "execution_count": 2,
   "id": "2649871e-3b53-48d8-8057-b9216814c8dd",
   "metadata": {},
   "outputs": [],
   "source": [
    "#from bdp_calcs.audit import core_audit\n",
    "#from bdp_calcs.drivers import *\n",
    "#from bdp_calcs.relations import *\n",
    "from launcher import worked_df"
   ]
  },
  {
   "cell_type": "code",
   "execution_count": 3,
   "id": "c834fce0-515f-45c6-a949-b540c3605be0",
   "metadata": {
    "scrolled": true
   },
   "outputs": [
    {
     "name": "stdout",
     "output_type": "stream",
     "text": [
      "            inter_any  inter_count  inter_pos  inter_neg  inter_neu  \\\n",
      "date                                                                  \n",
      "2025-08-19          0            0          0          0          0   \n",
      "2025-08-20          0            0          0          0          0   \n",
      "2025-08-21          0            0          0          0          0   \n",
      "2025-08-22          0            0          0          0          0   \n",
      "2025-08-23          0            0          0          0          0   \n",
      "2025-08-24          0            0          0          0          0   \n",
      "2025-08-25          0            0          0          0          0   \n",
      "2025-08-26          0            0          0          0          0   \n",
      "2025-08-27          0            0          0          0          0   \n",
      "\n",
      "            inter_valence  tag_amistad  tag_cliente  tag_comunidad  \\\n",
      "date                                                                 \n",
      "2025-08-19            0.0            0            0              0   \n",
      "2025-08-20            0.0            0            0              0   \n",
      "2025-08-21            0.0            0            0              0   \n",
      "2025-08-22            0.0            0            0              0   \n",
      "2025-08-23            0.0            0            0              0   \n",
      "2025-08-24            0.0            0            0              0   \n",
      "2025-08-25            0.0            0            0              0   \n",
      "2025-08-26            0.0            0            0              0   \n",
      "2025-08-27            0.0            0            0              0   \n",
      "\n",
      "            tag_desconocidos  tag_familia  tag_mascota  tag_online  \\\n",
      "date                                                                 \n",
      "2025-08-19                 0            0            0           0   \n",
      "2025-08-20                 0            0            0           0   \n",
      "2025-08-21                 0            0            0           0   \n",
      "2025-08-22                 0            0            0           0   \n",
      "2025-08-23                 0            0            0           0   \n",
      "2025-08-24                 0            0            0           0   \n",
      "2025-08-25                 0            0            0           0   \n",
      "2025-08-26                 0            0            0           0   \n",
      "2025-08-27                 0            0            0           0   \n",
      "\n",
      "            tag_pareja  tag_presencial  tag_terapia  tag_trabajo  tag_vecinos  \n",
      "date                                                                           \n",
      "2025-08-19           0               0            0            0            0  \n",
      "2025-08-20           0               0            0            0            0  \n",
      "2025-08-21           0               0            0            0            0  \n",
      "2025-08-22           0               0            0            0            0  \n",
      "2025-08-23           0               0            0            0            0  \n",
      "2025-08-24           0               0            0            0            0  \n",
      "2025-08-25           0               0            0            0            0  \n",
      "2025-08-26           0               0            0            0            0  \n",
      "2025-08-27           0               0            0            0            0  \n"
     ]
    },
    {
     "ename": "TypeError",
     "evalue": "object of type 'float' has no len()",
     "output_type": "error",
     "traceback": [
      "\u001b[31m---------------------------------------------------------------------------\u001b[39m",
      "\u001b[31mTypeError\u001b[39m                                 Traceback (most recent call last)",
      "\u001b[36mCell\u001b[39m\u001b[36m \u001b[39m\u001b[32mIn[3]\u001b[39m\u001b[32m, line 14\u001b[39m\n\u001b[32m      7\u001b[39m daily_df, df_day = worked_df(input_csv,output,target_email,target_day, targets,lookback_days)\n\u001b[32m     10\u001b[39m \u001b[38;5;66;03m# (Opcional) Debug rápido para verificar que hay horas en el diario:\u001b[39;00m\n\u001b[32m     11\u001b[39m \u001b[38;5;66;03m# print(df_day[[\"fecha\",\"hora_despertar\",\"hora_DSPT\"]].tail(7))\u001b[39;00m\n\u001b[32m     12\u001b[39m \n\u001b[32m     13\u001b[39m \u001b[38;5;66;03m# -------- CONSTRUIR REPORTE --------\u001b[39;00m\n\u001b[32m---> \u001b[39m\u001b[32m14\u001b[39m out_path = build_ema_report(df_day, target_email, targets, target_day, lookback_days)\n\u001b[32m     15\u001b[39m \u001b[38;5;28mprint\u001b[39m(\u001b[33m\"\u001b[39m\u001b[33mReporte generado en:\u001b[39m\u001b[33m\"\u001b[39m, out_path)\n",
      "\u001b[36mFile \u001b[39m\u001b[32m~/BDP/ohlongday/bdp_calcs/ema_report.py:526\u001b[39m, in \u001b[36mbuild_ema_report\u001b[39m\u001b[34m(df, target_email, targets, target_day, lookback_days)\u001b[39m\n\u001b[32m    520\u001b[39m row_idx = _find_row_idx_for_day(df, target_day)\n\u001b[32m    522\u001b[39m \u001b[38;5;66;03m#row_idx = (len(df) - 1) if not target_day else _find_row_idx_for_day(target_day)\u001b[39;00m\n\u001b[32m    523\u001b[39m \n\u001b[32m    524\u001b[39m \u001b[38;5;66;03m# 3) Piezas del informe (todas con row_idx consistente)\u001b[39;00m\n\u001b[32m    525\u001b[39m deltas, short_sum, verbose_sum, habits_html, patterns_html, kpi_html, wb_day, driver_tables, guia_html = \\\n\u001b[32m--> \u001b[39m\u001b[32m526\u001b[39m     report_variables(df, targets, lookback_days=lookback_days, row_idx=row_idx)\n\u001b[32m    528\u001b[39m \u001b[38;5;66;03m# 4) Proxies fisiológicos del día elegido\u001b[39;00m\n\u001b[32m    529\u001b[39m hormones_html = hormones_section_html(df, row_idx=row_idx)\n",
      "\u001b[36mFile \u001b[39m\u001b[32m~/BDP/ohlongday/bdp_calcs/variables.py:635\u001b[39m, in \u001b[36mreport_variables\u001b[39m\u001b[34m(df, targets, lookback_days, row_idx, goals)\u001b[39m\n\u001b[32m    633\u001b[39m \u001b[38;5;66;03m# Piezas del reporte (todas consistentes con row_idx)\u001b[39;00m\n\u001b[32m    634\u001b[39m short_sum   = narrative_summary_inline(df, row_idx=row_idx)\n\u001b[32m--> \u001b[39m\u001b[32m635\u001b[39m verbose_sum = descriptive_summary_inline(df, row_idx=row_idx, top_k=\u001b[32m2\u001b[39m)\n\u001b[32m    636\u001b[39m habits_html   = habits_section_html(df, goals)          \u001b[38;5;66;03m# puede seguir usando último día disponible\u001b[39;00m\n\u001b[32m    637\u001b[39m patterns_html = patterns_section_html(df)               \u001b[38;5;66;03m# idem\u001b[39;00m\n",
      "\u001b[36mFile \u001b[39m\u001b[32m~/BDP/ohlongday/bdp_calcs/variables.py:603\u001b[39m, in \u001b[36mdescriptive_summary_inline\u001b[39m\u001b[34m(df, row_idx, top_k)\u001b[39m\n\u001b[32m    600\u001b[39m out = [wb_hdr]\n\u001b[32m    601\u001b[39m \u001b[38;5;28;01mif\u001b[39;00m tgt_lines: out.append(\u001b[33m\"\u001b[39m\u001b[33m<br>Por targets: \u001b[39m\u001b[33m\"\u001b[39m + \u001b[33m\"\u001b[39m\u001b[33m; \u001b[39m\u001b[33m\"\u001b[39m.join(tgt_lines) + \u001b[33m\"\u001b[39m\u001b[33m.\u001b[39m\u001b[33m\"\u001b[39m)\n\u001b[32m--> \u001b[39m\u001b[32m603\u001b[39m texto = narrativa_humana_targets_v2(\n\u001b[32m    604\u001b[39m     df=df,                       \n\u001b[32m    605\u001b[39m     targets=[\u001b[33m\"\u001b[39m\u001b[33manimo\u001b[39m\u001b[33m\"\u001b[39m,\u001b[33m\"\u001b[39m\u001b[33mclaridad\u001b[39m\u001b[33m\"\u001b[39m,\u001b[33m\"\u001b[39m\u001b[33mestres\u001b[39m\u001b[33m\"\u001b[39m,\u001b[33m\"\u001b[39m\u001b[33mactivacion\u001b[39m\u001b[33m\"\u001b[39m],\n\u001b[32m    606\u001b[39m     row_idx= -\u001b[32m1\u001b[39m,                         \n\u001b[32m    607\u001b[39m     top_k=\u001b[32m2\u001b[39m,\n\u001b[32m    608\u001b[39m     drivers_func=\u001b[38;5;28;01mlambda\u001b[39;00m df,t,**kw: drivers_del_dia(df, t, **kw),  \u001b[38;5;66;03m# si la tienes\u001b[39;00m\n\u001b[32m    609\u001b[39m     win_base=\u001b[32m7\u001b[39m,\n\u001b[32m    610\u001b[39m )\n\u001b[32m    612\u001b[39m \u001b[38;5;28;01mif\u001b[39;00m texto:   out.append(\u001b[33m\"\u001b[39m\u001b[33m<br><h3>Motivos probables del día:</h3> \u001b[39m\u001b[33m\"\u001b[39m + texto + \u001b[33m\"\u001b[39m\u001b[33m<br>\u001b[39m\u001b[33m\"\u001b[39m)\n\u001b[32m    613\u001b[39m \u001b[38;5;28;01mreturn\u001b[39;00m \u001b[33m\"\u001b[39m\u001b[33m \u001b[39m\u001b[33m\"\u001b[39m.join(out)\n",
      "\u001b[36mFile \u001b[39m\u001b[32m~/BDP/ohlongday/bdp_calcs/variables.py:129\u001b[39m, in \u001b[36mnarrativa_humana_targets_v2\u001b[39m\u001b[34m(df, targets, row_idx, top_k, drivers_func, win_base, thr_trend)\u001b[39m\n\u001b[32m    126\u001b[39m     pos = pool[:top_k]; neg = pool[top_k:top_k*\u001b[32m2\u001b[39m]\n\u001b[32m    128\u001b[39m pos_txt = \u001b[33m\"\u001b[39m\u001b[33m; \u001b[39m\u001b[33m\"\u001b[39m.join(_describe_driver(df, c, ridx, +\u001b[32m1\u001b[39m \u001b[38;5;28;01mif\u001b[39;00m s>\u001b[32m0\u001b[39m \u001b[38;5;28;01melse\u001b[39;00m -\u001b[32m1\u001b[39m, win=win_base) \u001b[38;5;28;01mfor\u001b[39;00m c,s \u001b[38;5;129;01min\u001b[39;00m pos)\n\u001b[32m--> \u001b[39m\u001b[32m129\u001b[39m neg_txt = \u001b[33m\"\u001b[39m\u001b[33m; \u001b[39m\u001b[33m\"\u001b[39m.join(_describe_driver(df, c, ridx, +\u001b[32m1\u001b[39m \u001b[38;5;28;01mif\u001b[39;00m s>\u001b[32m0\u001b[39m \u001b[38;5;28;01melse\u001b[39;00m -\u001b[32m1\u001b[39m, win=win_base) \u001b[38;5;28;01mfor\u001b[39;00m c,s \u001b[38;5;129;01min\u001b[39;00m neg)\n\u001b[32m    131\u001b[39m \u001b[38;5;28;01mif\u001b[39;00m t == \u001b[33m\"\u001b[39m\u001b[33mestres\u001b[39m\u001b[33m\"\u001b[39m:\n\u001b[32m    132\u001b[39m     bloque = (\u001b[33mf\u001b[39m\u001b[33m\"\u001b[39m\u001b[38;5;132;01m{\u001b[39;00mcab\u001b[38;5;132;01m}\u001b[39;00m\u001b[33m.\u001b[39m\u001b[38;5;130;01m\\n\u001b[39;00m\u001b[33m\"\u001b[39m\n\u001b[32m    133\u001b[39m               \u001b[33mf\u001b[39m\u001b[33m\"\u001b[39m\u001b[33mFactores que lo elevaron (desfavorable): \u001b[39m\u001b[38;5;132;01m{\u001b[39;00mpos_txt\u001b[38;5;250m \u001b[39m\u001b[38;5;129;01mor\u001b[39;00m\u001b[38;5;250m \u001b[39m\u001b[33m'\u001b[39m\u001b[33m—\u001b[39m\u001b[33m'\u001b[39m\u001b[38;5;132;01m}\u001b[39;00m\u001b[33m.\u001b[39m\u001b[38;5;130;01m\\n\u001b[39;00m\u001b[33m\"\u001b[39m\n\u001b[32m    134\u001b[39m               \u001b[33mf\u001b[39m\u001b[33m\"\u001b[39m\u001b[33mFactores que lo redujeron (favorable): \u001b[39m\u001b[38;5;132;01m{\u001b[39;00mneg_txt\u001b[38;5;250m \u001b[39m\u001b[38;5;129;01mor\u001b[39;00m\u001b[38;5;250m \u001b[39m\u001b[33m'\u001b[39m\u001b[33m—\u001b[39m\u001b[33m'\u001b[39m\u001b[38;5;132;01m}\u001b[39;00m\u001b[33m.\u001b[39m\u001b[33m\"\u001b[39m)\n",
      "\u001b[36mFile \u001b[39m\u001b[32m~/BDP/ohlongday/bdp_calcs/variables.py:129\u001b[39m, in \u001b[36m<genexpr>\u001b[39m\u001b[34m(.0)\u001b[39m\n\u001b[32m    126\u001b[39m     pos = pool[:top_k]; neg = pool[top_k:top_k*\u001b[32m2\u001b[39m]\n\u001b[32m    128\u001b[39m pos_txt = \u001b[33m\"\u001b[39m\u001b[33m; \u001b[39m\u001b[33m\"\u001b[39m.join(_describe_driver(df, c, ridx, +\u001b[32m1\u001b[39m \u001b[38;5;28;01mif\u001b[39;00m s>\u001b[32m0\u001b[39m \u001b[38;5;28;01melse\u001b[39;00m -\u001b[32m1\u001b[39m, win=win_base) \u001b[38;5;28;01mfor\u001b[39;00m c,s \u001b[38;5;129;01min\u001b[39;00m pos)\n\u001b[32m--> \u001b[39m\u001b[32m129\u001b[39m neg_txt = \u001b[33m\"\u001b[39m\u001b[33m; \u001b[39m\u001b[33m\"\u001b[39m.join(_describe_driver(df, c, ridx, +\u001b[32m1\u001b[39m \u001b[38;5;28;01mif\u001b[39;00m s>\u001b[32m0\u001b[39m \u001b[38;5;28;01melse\u001b[39;00m -\u001b[32m1\u001b[39m, win=win_base) \u001b[38;5;28;01mfor\u001b[39;00m c,s \u001b[38;5;129;01min\u001b[39;00m neg)\n\u001b[32m    131\u001b[39m \u001b[38;5;28;01mif\u001b[39;00m t == \u001b[33m\"\u001b[39m\u001b[33mestres\u001b[39m\u001b[33m\"\u001b[39m:\n\u001b[32m    132\u001b[39m     bloque = (\u001b[33mf\u001b[39m\u001b[33m\"\u001b[39m\u001b[38;5;132;01m{\u001b[39;00mcab\u001b[38;5;132;01m}\u001b[39;00m\u001b[33m.\u001b[39m\u001b[38;5;130;01m\\n\u001b[39;00m\u001b[33m\"\u001b[39m\n\u001b[32m    133\u001b[39m               \u001b[33mf\u001b[39m\u001b[33m\"\u001b[39m\u001b[33mFactores que lo elevaron (desfavorable): \u001b[39m\u001b[38;5;132;01m{\u001b[39;00mpos_txt\u001b[38;5;250m \u001b[39m\u001b[38;5;129;01mor\u001b[39;00m\u001b[38;5;250m \u001b[39m\u001b[33m'\u001b[39m\u001b[33m—\u001b[39m\u001b[33m'\u001b[39m\u001b[38;5;132;01m}\u001b[39;00m\u001b[33m.\u001b[39m\u001b[38;5;130;01m\\n\u001b[39;00m\u001b[33m\"\u001b[39m\n\u001b[32m    134\u001b[39m               \u001b[33mf\u001b[39m\u001b[33m\"\u001b[39m\u001b[33mFactores que lo redujeron (favorable): \u001b[39m\u001b[38;5;132;01m{\u001b[39;00mneg_txt\u001b[38;5;250m \u001b[39m\u001b[38;5;129;01mor\u001b[39;00m\u001b[38;5;250m \u001b[39m\u001b[33m'\u001b[39m\u001b[33m—\u001b[39m\u001b[33m'\u001b[39m\u001b[38;5;132;01m}\u001b[39;00m\u001b[33m.\u001b[39m\u001b[33m\"\u001b[39m)\n",
      "\u001b[36mFile \u001b[39m\u001b[32m~/BDP/ohlongday/bdp_calcs/variables.py:89\u001b[39m, in \u001b[36m_describe_driver\u001b[39m\u001b[34m(df, c, ridx, contrib_sign, win)\u001b[39m\n\u001b[32m     87\u001b[39m \u001b[38;5;28;01mdef\u001b[39;00m\u001b[38;5;250m \u001b[39m\u001b[34m_describe_driver\u001b[39m(df, c, ridx, contrib_sign, win=\u001b[32m7\u001b[39m):\n\u001b[32m     88\u001b[39m \u001b[38;5;250m    \u001b[39m\u001b[33;03m\"\"\"Texto tipo: 'meditación: 25 min; ↑ 10 min (vs. 7d) — aportó ↑'\"\"\"\u001b[39;00m\n\u001b[32m---> \u001b[39m\u001b[32m89\u001b[39m     v, dv = _today_and_vs7d(df, c, ridx, win=win)\n\u001b[32m     90\u001b[39m     val_txt = _fmt_val(v, c)\n\u001b[32m     91\u001b[39m     delta_txt = _fmt_delta7d(dv, c)\n",
      "\u001b[36mFile \u001b[39m\u001b[32m~/BDP/ohlongday/bdp_calcs/variables.py:63\u001b[39m, in \u001b[36m_today_and_vs7d\u001b[39m\u001b[34m(df, c, ridx, win)\u001b[39m\n\u001b[32m     62\u001b[39m \u001b[38;5;28;01mdef\u001b[39;00m\u001b[38;5;250m \u001b[39m\u001b[34m_today_and_vs7d\u001b[39m(df, c, ridx, win=\u001b[32m7\u001b[39m):\n\u001b[32m---> \u001b[39m\u001b[32m63\u001b[39m     s = _num(df, c)\n\u001b[32m     64\u001b[39m     \u001b[38;5;28;01mif\u001b[39;00m \u001b[38;5;28mlen\u001b[39m(s)==\u001b[32m0\u001b[39m: \u001b[38;5;28;01mreturn\u001b[39;00m \u001b[38;5;28;01mNone\u001b[39;00m, \u001b[38;5;28;01mNone\u001b[39;00m\n\u001b[32m     65\u001b[39m     ridx = \u001b[38;5;28mint\u001b[39m(np.clip(ridx, \u001b[32m0\u001b[39m, \u001b[38;5;28mlen\u001b[39m(s)-\u001b[32m1\u001b[39m))\n",
      "\u001b[36mFile \u001b[39m\u001b[32m~/BDP/ohlongday/bdp_calcs/variables.py:50\u001b[39m, in \u001b[36m_num\u001b[39m\u001b[34m(df, c)\u001b[39m\n\u001b[32m     48\u001b[39m \u001b[38;5;28;01mdef\u001b[39;00m\u001b[38;5;250m \u001b[39m\u001b[34m_num\u001b[39m(df, c):\n\u001b[32m     49\u001b[39m     s = pd.to_numeric(df.get(c, np.nan), errors=\u001b[33m\"\u001b[39m\u001b[33mcoerce\u001b[39m\u001b[33m\"\u001b[39m)\n\u001b[32m---> \u001b[39m\u001b[32m50\u001b[39m     \u001b[38;5;28;01mreturn\u001b[39;00m s \u001b[38;5;28;01mif\u001b[39;00m \u001b[38;5;28mlen\u001b[39m(s) \u001b[38;5;28;01melse\u001b[39;00m pd.Series([np.nan]*\u001b[38;5;28mlen\u001b[39m(df))\n",
      "\u001b[31mTypeError\u001b[39m: object of type 'float' has no len()"
     ]
    }
   ],
   "source": [
    "from bdp_calcs.ema_report import build_ema_report\n",
    "\n",
    "input_csv =\"data/bdp_sample.csv\"\n",
    "targets = \"animo,claridad,estres,activacion\".split(\",\")\n",
    "\n",
    "# -------- ARMAR DF FINAL PARA EL REPORTE --------\n",
    "daily_df, df_day = worked_df(input_csv,output,target_email,target_day, targets,lookback_days)\n",
    "\n",
    "\n",
    "# (Opcional) Debug rápido para verificar que hay horas en el diario:\n",
    "# print(df_day[[\"fecha\",\"hora_despertar\",\"hora_DSPT\"]].tail(7))\n",
    "\n",
    "# -------- CONSTRUIR REPORTE --------\n",
    "out_path = build_ema_report(df_day, target_email, targets, target_day, lookback_days)\n",
    "print(\"Reporte generado en:\", out_path)"
   ]
  },
  {
   "cell_type": "code",
   "execution_count": null,
   "id": "ed770e6f-4e66-47fa-9676-6ef0b35e75e8",
   "metadata": {
    "scrolled": true
   },
   "outputs": [],
   "source": [
    "# Si quieres exponer confianza intradía en el HTML (opcional):\n",
    "#conf_intra = daily_meta[[\"n_tomas_total\",\"span_h_total\"]]\n",
    "#conf_intra"
   ]
  },
  {
   "cell_type": "markdown",
   "id": "7c6e53c1-be08-4108-85ed-8c4e08e54222",
   "metadata": {},
   "source": [
    "\n",
    "#targets = [t.strip() for t in targets if t.strip()]\n",
    "audit_df = core_audit(df, targets)\n",
    "audit_path = output + \"/core_audit.csv\"\n",
    "audit_df.to_csv(audit_path, index=False, encoding=\"utf-8\")\n",
    "print(\"Audit guardado en:\", audit_path)\n",
    "print(audit_df)"
   ]
  },
  {
   "cell_type": "markdown",
   "id": "5f50c139-6923-4838-8ca5-7bb434d10abc",
   "metadata": {},
   "source": [
    "\n",
    "\n",
    "# Drivers del día para cada target\n",
    "for t in targets:\n",
    "    res = drivers_del_dia(df, t, top_k=3)\n",
    "    txt = res.get(\"texto\",\"\")\n",
    "    tab = res.get(\"tabla\")\n",
    "    narrativa = res.get(\"narrativa\")\n",
    "    print(\"\\n[Drivers del día]\", t, \"→\", txt, \"\\nInterpretación →\", narrativa)\n",
    "    if isinstance(tab, pd.DataFrame) and not tab.empty:\n",
    "        tab.to_csv(os.path.join(output, f\"{t}_drivers_del_dia.csv\"), index=False, encoding=\"utf-8\")\n"
   ]
  },
  {
   "cell_type": "markdown",
   "id": "ff32e499-367c-439c-8410-1a408870599a",
   "metadata": {},
   "source": [
    "# 1) Wellbeing index\n",
    "wb = wellbeing_index(df, targets=targets)\n",
    "wb_path = os.path.join(output, \"wellbeing_index_series.csv\")\n",
    "pd.DataFrame({\"WB\": wb}).to_csv(wb_path, index=False, encoding=\"utf-8\")\n",
    "print(\"WB guardado en:\", wb_path)\n",
    "\n",
    "# 2) Correlaciones (niveles y deltas)\n",
    "cors = core_correlations(df, targets=targets)\n",
    "cors[\"levels\"].to_csv(os.path.join(output, \"core_cor_levels.csv\"), encoding=\"utf-8\")\n",
    "cors[\"deltas\"].to_csv(os.path.join(output, \"core_cor_deltas.csv\"), encoding=\"utf-8\")\n",
    "print(\"Correlaciones listas: core_cor_levels.csv, core_cor_deltas.csv\")\n",
    "\n",
    "# 3) Influencia cruzada (lag-1)\n",
    "infl = crosslag_influence(df, targets=targets)\n",
    "if isinstance(infl, pd.DataFrame) and not infl.empty:\n",
    "    infl.to_csv(os.path.join(output, \"core_crosslag_influence.csv\"), encoding=\"utf-8\")\n",
    "    print(\"Influencia cruzada guardada en: core_crosslag_influence.csv\")\n",
    "else:\n",
    "    print(\"Influencia cruzada: insuficiente señal (necesita más filas).\")\n",
    "\n",
    "# 4) Agregación de drivers del día a lo largo de la historia\n",
    "agg = aggregate_drivers_history(df, drivers_func=drivers_del_dia, targets=targets, top_k=3)\n",
    "# Exportar por target\n",
    "for t, ser in agg[\"avg_contrib\"].items():\n",
    "    if not ser.empty:\n",
    "        ser.to_csv(os.path.join(output, f\"{t}_avg_contrib.csv\"), header=[\"avg_contrib\"], encoding=\"utf-8\")\n",
    "for t, ser in agg[\"abs_contrib\"].items():\n",
    "    if not ser.empty:\n",
    "        ser.to_csv(os.path.join(output, f\"{t}_abs_contrib.csv\"), header=[\"mean_abs_contrib\"], encoding=\"utf-8\")\n",
    "for t, ser in agg[\"freq_sign\"].items():\n",
    "    if not ser.empty:\n",
    "        ser.to_csv(os.path.join(output, f\"{t}_freq_pos.csv\"), header=[\"freq_positive\"], encoding=\"utf-8\")\n",
    "print(\"Agregación de drivers exportada (avg/abs/freq).\")\n",
    "\n",
    "# 5) Sinergia de bienestar (qué drivers tienden a mejorar/empeorar el compuesto)\n",
    "syn = wellbeing_synergy(agg)\n",
    "if not syn.empty:\n",
    "    syn.to_csv(os.path.join(output, \"wellbeing_synergy.csv\"), header=[\"wb_synergy\"], encoding=\"utf-8\")\n",
    "    print(\"wellbeing_synergy.csv creado (features que más ayudan/perjudican WB).\")\n",
    "else:\n",
    "    print(\"Sinergia de bienestar: aún sin datos suficientes.\")"
   ]
  },
  {
   "cell_type": "markdown",
   "id": "86631e5e-feef-4f81-8071-c119d1ce7985",
   "metadata": {},
   "source": [
    "#resumen = narrative_summary(df, targets)\n",
    "resumen = descriptive_summary(df, targets,row_idx=-1)\n",
    "resumen"
   ]
  },
  {
   "cell_type": "code",
   "execution_count": null,
   "id": "03827eb2-fe11-4166-bc2d-44066a08859e",
   "metadata": {},
   "outputs": [],
   "source": []
  },
  {
   "cell_type": "code",
   "execution_count": null,
   "id": "1eec9538-08a4-46a9-ac29-b2e3e546b744",
   "metadata": {},
   "outputs": [],
   "source": []
  },
  {
   "cell_type": "code",
   "execution_count": null,
   "id": "7f68fd4a-0f2a-423e-83f9-9e5b2c99145d",
   "metadata": {},
   "outputs": [],
   "source": []
  }
 ],
 "metadata": {
  "kernelspec": {
   "display_name": "Python (jupyter_env)",
   "language": "python",
   "name": "jupyter_env"
  },
  "language_info": {
   "codemirror_mode": {
    "name": "ipython",
    "version": 3
   },
   "file_extension": ".py",
   "mimetype": "text/x-python",
   "name": "python",
   "nbconvert_exporter": "python",
   "pygments_lexer": "ipython3",
   "version": "3.13.5"
  }
 },
 "nbformat": 4,
 "nbformat_minor": 5
}
