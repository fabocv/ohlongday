{
 "cells": [
  {
   "cell_type": "code",
   "execution_count": 1,
   "id": "9d76f4f7-02e7-412e-bcf5-6f11cc2031c0",
   "metadata": {},
   "outputs": [],
   "source": [
    "from bdp_calcs import (\n",
    "  parsear_tiempos, calc_sueno, calc_estimulantes, calc_actividad_luz_pantalla,\n",
    "  calc_psicosocial, calc_medicacion_sustancias, calc_indices, calc_temporales\n",
    ")\n",
    "import pandas as pd\n",
    "\n",
    "input_csv =\"data/bdp_sample.csv\"\n",
    "targets = \"animo,claridad,estres,activacion\".split(\",\")\n",
    "output =\"./outputs\"\n",
    "target_email = \"fabianleandro.cv@gmail.com\"\n",
    "row_idx = -1"
   ]
  },
  {
   "cell_type": "code",
   "execution_count": 2,
   "id": "2649871e-3b53-48d8-8057-b9216814c8dd",
   "metadata": {},
   "outputs": [],
   "source": [
    "from bdp_calcs.audit import core_audit\n",
    "from bdp_calcs.drivers import *\n",
    "from bdp_calcs.relations import *\n",
    "from bdp_calcs.normalize import *\n",
    "from bdp_calcs.ema_report import build_ema_report "
   ]
  },
  {
   "cell_type": "code",
   "execution_count": 3,
   "id": "c834fce0-515f-45c6-a949-b540c3605be0",
   "metadata": {
    "scrolled": true
   },
   "outputs": [
    {
     "name": "stdout",
     "output_type": "stream",
     "text": [
      "Saved: output/informeBDP_EMA.html\n"
     ]
    }
   ],
   "source": [
    "df_forms = pd.read_csv(input_csv, encoding=\"utf-8\", decimal=\",\")  # o el CSV del forms\n",
    "df_clean, colmap = normalize_bdp_df(df_forms)\n",
    "df = build_ema_report(df_clean, target_email, targets)"
   ]
  },
  {
   "cell_type": "markdown",
   "id": "7c6e53c1-be08-4108-85ed-8c4e08e54222",
   "metadata": {},
   "source": [
    "\n",
    "#targets = [t.strip() for t in targets if t.strip()]\n",
    "audit_df = core_audit(df, targets)\n",
    "audit_path = output + \"/core_audit.csv\"\n",
    "audit_df.to_csv(audit_path, index=False, encoding=\"utf-8\")\n",
    "print(\"Audit guardado en:\", audit_path)\n",
    "print(audit_df)"
   ]
  },
  {
   "cell_type": "markdown",
   "id": "5f50c139-6923-4838-8ca5-7bb434d10abc",
   "metadata": {},
   "source": [
    "\n",
    "\n",
    "# Drivers del día para cada target\n",
    "for t in targets:\n",
    "    res = drivers_del_dia(df, t, top_k=3)\n",
    "    txt = res.get(\"texto\",\"\")\n",
    "    tab = res.get(\"tabla\")\n",
    "    narrativa = res.get(\"narrativa\")\n",
    "    print(\"\\n[Drivers del día]\", t, \"→\", txt, \"\\nInterpretación →\", narrativa)\n",
    "    if isinstance(tab, pd.DataFrame) and not tab.empty:\n",
    "        tab.to_csv(os.path.join(output, f\"{t}_drivers_del_dia.csv\"), index=False, encoding=\"utf-8\")\n"
   ]
  },
  {
   "cell_type": "markdown",
   "id": "ff32e499-367c-439c-8410-1a408870599a",
   "metadata": {},
   "source": [
    "# 1) Wellbeing index\n",
    "wb = wellbeing_index(df, targets=targets)\n",
    "wb_path = os.path.join(output, \"wellbeing_index_series.csv\")\n",
    "pd.DataFrame({\"WB\": wb}).to_csv(wb_path, index=False, encoding=\"utf-8\")\n",
    "print(\"WB guardado en:\", wb_path)\n",
    "\n",
    "# 2) Correlaciones (niveles y deltas)\n",
    "cors = core_correlations(df, targets=targets)\n",
    "cors[\"levels\"].to_csv(os.path.join(output, \"core_cor_levels.csv\"), encoding=\"utf-8\")\n",
    "cors[\"deltas\"].to_csv(os.path.join(output, \"core_cor_deltas.csv\"), encoding=\"utf-8\")\n",
    "print(\"Correlaciones listas: core_cor_levels.csv, core_cor_deltas.csv\")\n",
    "\n",
    "# 3) Influencia cruzada (lag-1)\n",
    "infl = crosslag_influence(df, targets=targets)\n",
    "if isinstance(infl, pd.DataFrame) and not infl.empty:\n",
    "    infl.to_csv(os.path.join(output, \"core_crosslag_influence.csv\"), encoding=\"utf-8\")\n",
    "    print(\"Influencia cruzada guardada en: core_crosslag_influence.csv\")\n",
    "else:\n",
    "    print(\"Influencia cruzada: insuficiente señal (necesita más filas).\")\n",
    "\n",
    "# 4) Agregación de drivers del día a lo largo de la historia\n",
    "agg = aggregate_drivers_history(df, drivers_func=drivers_del_dia, targets=targets, top_k=3)\n",
    "# Exportar por target\n",
    "for t, ser in agg[\"avg_contrib\"].items():\n",
    "    if not ser.empty:\n",
    "        ser.to_csv(os.path.join(output, f\"{t}_avg_contrib.csv\"), header=[\"avg_contrib\"], encoding=\"utf-8\")\n",
    "for t, ser in agg[\"abs_contrib\"].items():\n",
    "    if not ser.empty:\n",
    "        ser.to_csv(os.path.join(output, f\"{t}_abs_contrib.csv\"), header=[\"mean_abs_contrib\"], encoding=\"utf-8\")\n",
    "for t, ser in agg[\"freq_sign\"].items():\n",
    "    if not ser.empty:\n",
    "        ser.to_csv(os.path.join(output, f\"{t}_freq_pos.csv\"), header=[\"freq_positive\"], encoding=\"utf-8\")\n",
    "print(\"Agregación de drivers exportada (avg/abs/freq).\")\n",
    "\n",
    "# 5) Sinergia de bienestar (qué drivers tienden a mejorar/empeorar el compuesto)\n",
    "syn = wellbeing_synergy(agg)\n",
    "if not syn.empty:\n",
    "    syn.to_csv(os.path.join(output, \"wellbeing_synergy.csv\"), header=[\"wb_synergy\"], encoding=\"utf-8\")\n",
    "    print(\"wellbeing_synergy.csv creado (features que más ayudan/perjudican WB).\")\n",
    "else:\n",
    "    print(\"Sinergia de bienestar: aún sin datos suficientes.\")"
   ]
  },
  {
   "cell_type": "markdown",
   "id": "86631e5e-feef-4f81-8071-c119d1ce7985",
   "metadata": {},
   "source": [
    "#resumen = narrative_summary(df, targets)\n",
    "resumen = descriptive_summary(df, targets,row_idx=-1)\n",
    "resumen"
   ]
  },
  {
   "cell_type": "code",
   "execution_count": null,
   "id": "03827eb2-fe11-4166-bc2d-44066a08859e",
   "metadata": {},
   "outputs": [],
   "source": []
  },
  {
   "cell_type": "code",
   "execution_count": null,
   "id": "1eec9538-08a4-46a9-ac29-b2e3e546b744",
   "metadata": {},
   "outputs": [],
   "source": []
  },
  {
   "cell_type": "code",
   "execution_count": null,
   "id": "7f68fd4a-0f2a-423e-83f9-9e5b2c99145d",
   "metadata": {},
   "outputs": [],
   "source": []
  }
 ],
 "metadata": {
  "kernelspec": {
   "display_name": "Python (jupyter_env)",
   "language": "python",
   "name": "jupyter_env"
  },
  "language_info": {
   "codemirror_mode": {
    "name": "ipython",
    "version": 3
   },
   "file_extension": ".py",
   "mimetype": "text/x-python",
   "name": "python",
   "nbconvert_exporter": "python",
   "pygments_lexer": "ipython3",
   "version": "3.13.5"
  }
 },
 "nbformat": 4,
 "nbformat_minor": 5
}
