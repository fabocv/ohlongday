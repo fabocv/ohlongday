{
 "cells": [
  {
   "cell_type": "code",
   "execution_count": 1,
   "id": "407dfac7-71e8-4313-9c8d-f2ac59e316f5",
   "metadata": {},
   "outputs": [],
   "source": [
    "from run import *\n",
    "import pandas as pd"
   ]
  },
  {
   "cell_type": "code",
   "execution_count": null,
   "id": "c171b52a-5ff6-47ec-b9e6-14247f46b43d",
   "metadata": {},
   "outputs": [
    {
     "name": "stdout",
     "output_type": "stream",
     "text": [
      "archivo: bdp_sample.csv   |   correo: suu... \n",
      "17 registros, desde el 26-08-2025 HASTA el 02-09-2025\n"
     ]
    }
   ],
   "source": [
    "target_email = init() or \"test@gmail.com\"\n",
    "df = dataset(target_email=target_email)\n",
    "#data = generar_informe( df )"
   ]
  },
  {
   "cell_type": "code",
   "execution_count": null,
   "id": "32e11076-6dc5-4ce4-ba10-b17c1950f1a7",
   "metadata": {},
   "outputs": [],
   "source": []
  }
 ],
 "metadata": {
  "kernelspec": {
   "display_name": "Python 3 (ipykernel)",
   "language": "python",
   "name": "python3"
  },
  "language_info": {
   "codemirror_mode": {
    "name": "ipython",
    "version": 3
   },
   "file_extension": ".py",
   "mimetype": "text/x-python",
   "name": "python",
   "nbconvert_exporter": "python",
   "pygments_lexer": "ipython3",
   "version": "3.13.5"
  }
 },
 "nbformat": 4,
 "nbformat_minor": 5
}
